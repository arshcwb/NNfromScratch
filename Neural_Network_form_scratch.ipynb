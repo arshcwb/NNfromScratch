{
  "nbformat": 4,
  "nbformat_minor": 0,
  "metadata": {
    "colab": {
      "provenance": [],
      "gpuType": "T4"
    },
    "kernelspec": {
      "name": "python3",
      "display_name": "Python 3"
    },
    "language_info": {
      "name": "python"
    },
    "accelerator": "GPU"
  },
  "cells": [
    {
      "cell_type": "markdown",
      "source": [
        "# USING OOPS"
      ],
      "metadata": {
        "id": "N6vSD1SfdYs-"
      }
    },
    {
      "cell_type": "code",
      "source": [
        "X= [[1,2,3,2.5],\n",
        "    [2,5,-1,2],\n",
        "     [-1.5,2.7,3.3,-0.8]]"
      ],
      "metadata": {
        "id": "a1lna-hBd1jl"
      },
      "execution_count": null,
      "outputs": []
    },
    {
      "cell_type": "code",
      "source": [
        "import random\n",
        "np.random.seed(0)\n",
        "\n",
        "class DenseLayer():\n",
        "  def __init__(self, n_inputs, n_neurons):\n",
        "    self.weights = 0.1*np.random.randn(n_inputs, n_neurons) # Taking inputs x neurons so that we dont have to transpose. Multiplying with 0.1 so we stay in range -1 and 1\n",
        "    self.biases = np.zeros((1,n_neurons))\n",
        "  def forwardpass(self, input):\n",
        "    self.output=np.dot(input, self.weights) + self.biases\n",
        "\n",
        "\n",
        "layer1= DenseLayer(4,5) #input = 4, Output (neurons in layer) = 5\n",
        "layer1.forwardpass(X)\n",
        "print(\"Layer 1:\\n \", layer1.output)\n",
        "# layer 1 output is input for layer 2\n",
        "print(\"\\n\")\n",
        "layer2=DenseLayer(5,2) #input = 5 (output of previous), output = 2 (neurons)\n",
        "layer2.forwardpass(layer1.output)\n",
        "print(\"Layer 2:\\n \",layer2.output)"
      ],
      "metadata": {
        "colab": {
          "base_uri": "https://localhost:8080/"
        },
        "id": "1DmBJar7dYPY",
        "outputId": "98a5c480-5456-4eb9-d84a-247fe17f0c61"
      },
      "execution_count": null,
      "outputs": [
        {
          "output_type": "stream",
          "name": "stdout",
          "text": [
            "Layer 1:\n",
            "  [[ 0.10758131  1.03983522  0.24462411  0.31821498  0.18851053]\n",
            " [-0.08349796  0.70846411  0.00293357  0.44701525  0.36360538]\n",
            " [-0.50763245  0.55688422  0.07987797 -0.34889573  0.04553042]]\n",
            "\n",
            "\n",
            "Layer 2:\n",
            "  [[ 0.148296   -0.08397602]\n",
            " [ 0.14100315 -0.01340469]\n",
            " [ 0.20124979 -0.07290616]]\n"
          ]
        }
      ]
    },
    {
      "cell_type": "code",
      "source": [
        "import numpy as np"
      ],
      "metadata": {
        "id": "KhBo83mjkWRC"
      },
      "execution_count": null,
      "outputs": []
    },
    {
      "cell_type": "code",
      "source": [
        "%pip install nnfs"
      ],
      "metadata": {
        "colab": {
          "base_uri": "https://localhost:8080/"
        },
        "id": "BKsUGziOka5X",
        "outputId": "599ec9be-3484-4b2d-d128-5cdebc7d90e4"
      },
      "execution_count": null,
      "outputs": [
        {
          "output_type": "stream",
          "name": "stdout",
          "text": [
            "Collecting nnfs\n",
            "  Downloading nnfs-0.5.1-py3-none-any.whl.metadata (1.7 kB)\n",
            "Requirement already satisfied: numpy in /usr/local/lib/python3.11/dist-packages (from nnfs) (2.0.2)\n",
            "Downloading nnfs-0.5.1-py3-none-any.whl (9.1 kB)\n",
            "Installing collected packages: nnfs\n",
            "Successfully installed nnfs-0.5.1\n"
          ]
        }
      ]
    },
    {
      "cell_type": "code",
      "source": [
        "import nnfs\n",
        "nnfs.init()"
      ],
      "metadata": {
        "id": "m-ig2ebFkY7I"
      },
      "execution_count": null,
      "outputs": []
    },
    {
      "cell_type": "code",
      "source": [
        "def gen_data(points, classes):\n",
        "    X = np.zeros((points*classes, 2))\n",
        "    y = np.zeros(points*classes, dtype='uint8')\n",
        "    for class_number in range(classes):\n",
        "        ix = range(points*class_number, points*(class_number+1))\n",
        "        r = np.linspace(0.0, 1, points)  # radius\n",
        "        t = np.linspace(class_number*4, (class_number+1)*4, points) + np.random.randn(points)*0.2\n",
        "        X[ix] = np.c_[r*np.sin(t*2.5), r*np.cos(t*2.5)]\n",
        "        y[ix] = class_number\n",
        "    return X, y"
      ],
      "metadata": {
        "id": "L97QFbsLkktP"
      },
      "execution_count": null,
      "outputs": []
    },
    {
      "cell_type": "code",
      "source": [
        "X,y = gen_data(100,3)"
      ],
      "metadata": {
        "id": "f8UMd_bHl2ru"
      },
      "execution_count": null,
      "outputs": []
    },
    {
      "cell_type": "code",
      "source": [
        "import matplotlib.pyplot as plt\n",
        "\n",
        "plt.scatter(X[:,0], X[:,1])\n",
        "plt.show()\n",
        "\n",
        "plt.scatter(X[:,0], X[:,1], c=y, cmap='brg')\n",
        "plt.show()"
      ],
      "metadata": {
        "colab": {
          "base_uri": "https://localhost:8080/",
          "height": 843
        },
        "id": "ljD3Lfsol_ww",
        "outputId": "c0515a80-9db3-4722-f48c-d597b43c2a4f"
      },
      "execution_count": null,
      "outputs": [
        {
          "output_type": "display_data",
          "data": {
            "text/plain": [
              "<Figure size 640x480 with 1 Axes>"
            ],
            "image/png": "[encoded data removed]"
          },
          "metadata": {}
        },
        {
          "output_type": "display_data",
          "data": {
            "text/plain": [
              "<Figure size 640x480 with 1 Axes>"
            ],
            "image/png": "[encoded data removed]"
          },
          "metadata": {}
        }
      ]
    },
    {
      "cell_type": "code",
      "source": [
        "from nnfs.datasets import spiral_data\n",
        "\n",
        "X,y = spiral_data(100,3)\n",
        "\n",
        "\n",
        "plt.scatter(X[:,0], X[:,1])\n",
        "plt.show()\n",
        "\n",
        "plt.scatter(X[:,0], X[:,1], c=y, cmap='brg')\n",
        "plt.show()"
      ],
      "metadata": {
        "colab": {
          "base_uri": "https://localhost:8080/",
          "height": 843
        },
        "id": "6x-EkxM0m-a5",
        "outputId": "5386921f-bef5-4d90-e7f4-f31ed5e4dd8a"
      },
      "execution_count": null,
      "outputs": [
        {
          "output_type": "display_data",
          "data": {
            "text/plain": [
              "<Figure size 640x480 with 1 Axes>"
            ],
            "image/png": "[encoded data removed]"
          },
          "metadata": {}
        },
        {
          "output_type": "display_data",
          "data": {
            "text/plain": [
              "<Figure size 640x480 with 1 Axes>"
            ],
            "image/png": "[encoded data removed]"
          },
          "metadata": {}
        }
      ]
    },
    {
      "cell_type": "markdown",
      "source": [
        "# Activation Rectifier Linear Unit"
      ],
      "metadata": {
        "id": "CMC7HJ_-pRTW"
      }
    },
    {
      "cell_type": "code",
      "source": [
        "class ActivationRELU:\n",
        "  def forward_pass(self, input):\n",
        "    self.output=np.maximum(0, input)\n"
      ],
      "metadata": {
        "id": "b8Os735Jn_6G"
      },
      "execution_count": null,
      "outputs": []
    },
    {
      "cell_type": "markdown",
      "source": [
        "# Dense Layer"
      ],
      "metadata": {
        "id": "dga-mXE3pVY-"
      }
    },
    {
      "cell_type": "code",
      "source": [
        "class DenseLayer():\n",
        "  def __init__(self, n_inputs, n_neurons):\n",
        "    self.weights = 0.1*np.random.randn(n_inputs, n_neurons) # Taking inputs x neurons so that we dont have to transpose. Multiplying with 0.1 so we stay in range -1 and 1\n",
        "    self.biases = np.zeros((1,n_neurons))\n",
        "  def forward_pass(self, input):\n",
        "    self.output=np.dot(input, self.weights) + self.biases\n"
      ],
      "metadata": {
        "id": "fNChhCoCoY-n"
      },
      "execution_count": null,
      "outputs": []
    },
    {
      "cell_type": "code",
      "source": [
        "Layer1=DenseLayer(2,5)\n",
        "Activation1=ActivationRELU()\n",
        "Layer1.forward_pass(X)\n",
        "Activation1.forward_pass(Layer1.output)\n"
      ],
      "metadata": {
        "id": "c5mdve30pcOe"
      },
      "execution_count": null,
      "outputs": []
    },
    {
      "cell_type": "markdown",
      "source": [
        "# Softmax Activation function"
      ],
      "metadata": {
        "id": "j_Ic9asAyrqg"
      }
    },
    {
      "cell_type": "code",
      "source": [
        "class Activation_SoftMax:\n",
        "  def forward_pass(self, input):\n",
        "    exp_values=np.exp(input - np.max(input, axis=1, keepdims=True))\n",
        "    norm_values=exp_values/np.sum(exp_values, axis=1, keepdims=True)\n",
        "    self.output=norm_values"
      ],
      "metadata": {
        "id": "9VeA5Aqp0Chx"
      },
      "execution_count": null,
      "outputs": []
    },
    {
      "cell_type": "code",
      "source": [
        "X, y = spiral_data(100,3)\n",
        "\n",
        "layer1 = DenseLayer(2,3)\n",
        "activation1 = ActivationRELU()\n",
        "\n",
        "layer2 = DenseLayer(3,3)\n",
        "activation2 = Activation_SoftMax()\n",
        "\n",
        "layer1.forward_pass(X)\n",
        "activation1.forward_pass(layer1.output)\n",
        "\n",
        "layer2.forward_pass(activation1.output)\n",
        "activation2.forward_pass(layer2.output)\n",
        "\n",
        "print(activation2.output[:5])"
      ],
      "metadata": {
        "colab": {
          "base_uri": "https://localhost:8080/"
        },
        "id": "TNFeiaGM0HBg",
        "outputId": "c9e96863-4782-4a4d-986e-941b61941e5e"
      },
      "execution_count": null,
      "outputs": [
        {
          "output_type": "stream",
          "name": "stdout",
          "text": [
            "[[0.33333334 0.33333334 0.33333334]\n",
            " [0.333341   0.33333027 0.33332872]\n",
            " [0.33340576 0.33330435 0.33328986]\n",
            " [0.33344728 0.33328775 0.33326495]\n",
            " [0.3334685  0.33327928 0.33325225]]\n"
          ]
        }
      ]
    },
    {
      "cell_type": "code",
      "source": [
        "class Loss:\n",
        "  def calculate(self, output, y):\n",
        "    sample_losses = self.forward(output, y) #function which gives loss (categorical cross entropy), -log(y_confi)\n",
        "    data_loss =  np.mean(sample_losses)\n",
        "    return data_loss\n",
        "\n",
        "class Loss_CategoricalCrossEntropy(Loss):\n",
        "  def forward(self, y_pred, y_true):\n",
        "    samples = len(y_pred)\n",
        "    y_pred_clipped = np.clip(y_pred, 1e-7, 1-1e-7)\n",
        "\n",
        "    if len(y_true.shape) == 1:\n",
        "      # [0, 1, 1]      if given indexes\n",
        "      correct_confidences = y_pred_clipped[range(samples), y_true]\n",
        "    elif len(y_true.shape) == 2:\n",
        "      # [[1,0,0],[0,1,0],[0,1,0]]    if given hot one encoded matrix\n",
        "      correct_confidences = np.sum(y_pred_clipped*y_true, axis=1)\n",
        "\n",
        "    negative_log_likelihoods = -np.log(correct_confidences)\n",
        "    return negative_log_likelihoods\n",
        "\n",
        "\n",
        "    def backward(self, dvalues, y_true):\n",
        "        samples = len(dvalues)\n",
        "        labels = len(dvalues[0])\n",
        "\n",
        "\n",
        "        if len(y_true.shape) == 1:\n",
        "            y_true = np.eye(labels)[y_true] # hot one encoding\n",
        "\n",
        "        self.dinputs = -y_true / dvalues\n",
        "        self.dinputs = self.dinputs / samples"
      ],
      "metadata": {
        "id": "14QrYnK5B63t"
      },
      "execution_count": null,
      "outputs": []
    },
    {
      "cell_type": "code",
      "source": [
        "loss_function = Loss_CategoricalCrossEntropy()\n",
        "loss = loss_function.calculate(activation2.output, y)\n",
        "print(\"Loss: \", loss)"
      ],
      "metadata": {
        "colab": {
          "base_uri": "https://localhost:8080/"
        },
        "id": "IsIBPXBDB9pz",
        "outputId": "29216b07-be38-40e7-c1d5-c272c1b85c10"
      },
      "execution_count": null,
      "outputs": [
        {
          "output_type": "stream",
          "name": "stdout",
          "text": [
            "Loss:  1.0980458\n"
          ]
        }
      ]
    },
    {
      "cell_type": "code",
      "source": [
        "predictions = np.argmax(activation2.output, axis=1)\n",
        "if len(y.shape)==2:\n",
        "  y=np.argmax(y, axis=1)\n",
        "\n",
        "accuracy = np.mean(predictions == y)\n",
        "\n",
        "print(accuracy)"
      ],
      "metadata": {
        "colab": {
          "base_uri": "https://localhost:8080/"
        },
        "id": "-qS4ywTsCx0q",
        "outputId": "5d3eb371-0ae2-4323-dfe3-fac20b2a9b57"
      },
      "execution_count": null,
      "outputs": [
        {
          "output_type": "stream",
          "name": "stdout",
          "text": [
            "0.36333333333333334\n"
          ]
        }
      ]
    },
    {
      "cell_type": "code",
      "source": [
        "class Activation_Softmax_Loss_CategoricalCrossentropy:\n",
        "    def __init__(self):\n",
        "        self.activation = Activation_SoftMax()\n",
        "        self.loss = Loss_CategoricalCrossEntropy()\n",
        "\n",
        "    def forward(self, inputs, y_true):\n",
        "\n",
        "        self.activation.forward(inputs)\n",
        "        self.output = self.activation.output\n",
        "\n",
        "        return self.loss.calculate(self.output, y_true)\n",
        "\n",
        "    def backward(self, dvalues, y_true):\n",
        "        samples = len(dvalues)\n",
        "\n",
        "        if len(y_true.shape) == 2: # hot eye encoded\n",
        "            y_true = np.argmax(y_true, axis=1) # 0-index representation\n",
        "\n",
        "        self.dinputs = dvalues.copy() #because safe to create a copy\n",
        "\n",
        "        self.dinputs[range(samples), y_true] -= 1 # for sample=3, range 0,1,2 , if y_true = [0,1,1] then dinputs substraction at {0,0},{1,1},{2,1}\n",
        "\n",
        "        self.dinputs = self.dinputs / samples #normalized to avoid shoot up\n"
      ],
      "metadata": {
        "id": "6xDW8ggOQO0u"
      },
      "execution_count": null,
      "outputs": []
    },
    {
      "cell_type": "code",
      "source": [
        "softmax_outputs = np.array([[0.7, 0.1, 0.2],\n",
        " [0.1, 0.5, 0.4],\n",
        " [0.02, 0.9, 0.08]])\n",
        "class_targets = np.array([0, 1, 1])\n",
        "softmax_loss = Activation_Softmax_Loss_CategoricalCrossentropy()\n",
        "softmax_loss.backward(softmax_outputs, class_targets)\n",
        "dvalues1 = softmax_loss.dinputs\n",
        "\n",
        "print(dvalues1)"
      ],
      "metadata": {
        "colab": {
          "base_uri": "https://localhost:8080/"
        },
        "id": "CNr6FUPVPYyX",
        "outputId": "97549cda-8937-4655-9b72-ac38010d1332"
      },
      "execution_count": null,
      "outputs": [
        {
          "output_type": "stream",
          "name": "stdout",
          "text": [
            "[[-0.1         0.03333333  0.06666667]\n",
            " [ 0.03333333 -0.16666667  0.13333333]\n",
            " [ 0.00666667 -0.03333333  0.02666667]]\n"
          ]
        }
      ]
    },
    {
      "cell_type": "markdown",
      "source": [
        "# Compiling ALL:"
      ],
      "metadata": {
        "id": "cGKKHbVhPrQS"
      }
    },
    {
      "cell_type": "markdown",
      "source": [
        "Layer"
      ],
      "metadata": {
        "id": "B4Vlf1lYPzBo"
      }
    },
    {
      "cell_type": "code",
      "source": [
        "class Layer_Dense:\n",
        "    def __init__(self, n_inputs, n_neurons):\n",
        "        self.weights = 0.01*np.random.randn(n_inputs, n_neurons) # multiplied by 0.01 to not overshoot the limit of 1\n",
        "        self.biases = np.zeros((1, n_neurons)) #initialized by zeros\n",
        "\n",
        "    def forward(self, inputs):\n",
        "        self.inputs = inputs\n",
        "        self.output = np.dot(inputs, self.weights) + self.biases #y= x.w + b\n",
        "\n",
        "    def backward(self, dvalues):\n",
        "        self.dweights = np.dot(self.inputs.T, dvalues) # x tranpose . dL/dz = dL/dw = (dL/dz).(dz/dw)\n",
        "        self.dbiases = np.sum(dvalues, axis=0, keepdims=True) # dL/dz.dz/db => dL/dz  (because dz/db = 1)\n",
        "        self.dinputs = np.dot(dvalues, self.weights.T) # dL/dz . w transpose = dL/dx = (dL/dz).(dz/dx)\n"
      ],
      "metadata": {
        "id": "ZWno1001PuLR"
      },
      "execution_count": null,
      "outputs": []
    },
    {
      "cell_type": "markdown",
      "source": [
        "RELU"
      ],
      "metadata": {
        "id": "seyb4f2pQ5l1"
      }
    },
    {
      "cell_type": "code",
      "source": [
        "class Activation_ReLU:\n",
        "    def forward(self, inputs):\n",
        "        self.inputs = inputs\n",
        "        self.output = np.maximum(0, inputs)\n",
        "\n",
        "    def backward(self, dvalues):\n",
        "        self.dinputs = dvalues.copy() #so that original don't get modified\n",
        "        self.dinputs[self.inputs <= 0] = 0 # equals zero if input(z) <= 0 else dL/dz because RELU returns input as it is if > 0\n"
      ],
      "metadata": {
        "id": "fMjc2s7HQ6s8"
      },
      "execution_count": null,
      "outputs": []
    },
    {
      "cell_type": "markdown",
      "source": [
        "Individual softMax function, but backward pass won't be using this as combining softmax and categorical loss is easier"
      ],
      "metadata": {
        "id": "yf8uyBJRSfgF"
      }
    },
    {
      "cell_type": "code",
      "source": [
        "class Activation_Softmax:\n",
        "      def forward(self, inputs):\n",
        "        exp_values = np.exp(inputs-np.max(inputs, axis=1, keepdims=True)) #substracted because still gives the same answer and avoids overshoot\n",
        "        probabilities = exp_values/np.sum(exp_values, axis=1,keepdims=True) #normalized\n",
        "        self.output = probabilities"
      ],
      "metadata": {
        "id": "xnPa9zC-Rw20"
      },
      "execution_count": null,
      "outputs": []
    },
    {
      "cell_type": "code",
      "source": [
        "class Loss:\n",
        "      def calculate(self, output, y):\n",
        "        sample_losses = self.forward(output, y)\n",
        "        data_loss = np.mean(sample_losses)\n",
        "        return data_loss"
      ],
      "metadata": {
        "id": "Ii7lis-xSMII"
      },
      "execution_count": null,
      "outputs": []
    },
    {
      "cell_type": "code",
      "source": [
        "class Loss_CategoricalCrossEntropy(Loss):\n",
        "  def forward(self, y_pred, y_true):\n",
        "    samples = len(y_pred)\n",
        "    y_pred_clipped = np.clip(y_pred, 1e-7, 1-1e-7) #avoiding absolute zero and one y_pred because that can lead to infinite/undefinite loss\n",
        "\n",
        "    if len(y_true.shape) == 1:\n",
        "      # [0, 1, 1]      if given indexes\n",
        "      correct_confidences = y_pred_clipped[range(samples), y_true]\n",
        "    elif len(y_true.shape) == 2:\n",
        "      # [[1,0,0],[0,1,0],[0,1,0]]    if given hot one encoded matrix\n",
        "      correct_confidences = np.sum(y_pred_clipped*y_true, axis=1)\n",
        "\n",
        "    negative_log_likelihoods = -np.log(correct_confidences) #for correct class: L = -1*log(y)\n",
        "    return negative_log_likelihoods\n",
        "\n",
        "\n",
        "    def backward(self, dvalues, y_true):\n",
        "        samples = len(dvalues)\n",
        "        labels = len(dvalues[0])\n",
        "\n",
        "        if len(y_true.shape) == 1:\n",
        "            y_true = np.eye(labels)[y_true] # converted to hot one encoding\n",
        "\n",
        "        self.dinputs = -y_true / dvalues #derivative of loss\n",
        "        self.dinputs = self.dinputs / samples # normalized"
      ],
      "metadata": {
        "id": "FiR9CZSrSsC8"
      },
      "execution_count": null,
      "outputs": []
    },
    {
      "cell_type": "markdown",
      "source": [
        "Combined Softmax and Categorical Loss Entropy Loss, for backward pass"
      ],
      "metadata": {
        "id": "S4BBASNlS2-D"
      }
    },
    {
      "cell_type": "code",
      "source": [
        "class Activation_Softmax_Loss_CategoricalCrossentropy:\n",
        "    def __init__(self):\n",
        "        self.activation = Activation_Softmax()\n",
        "        self.loss = Loss_CategoricalCrossEntropy()\n",
        "\n",
        "    def forward(self, inputs, y_true):\n",
        "        self.activation.forward(inputs)\n",
        "        self.output = self.activation.output # gives output\n",
        "        return self.loss.calculate(self.output, y_true) # already explained in Activation_Softmax, gives LOSS\n",
        "\n",
        "\n",
        "    def backward(self, y_pred, y_true):\n",
        "        samples = len(y_pred)\n",
        "        if len(y_true.shape) == 2:\n",
        "            y_true = np.argmax(y_true, axis=1) #converting to 0 based indexing again\n",
        "        self.dinputs = y_pred.copy() # ASSIGINING y_pred to input\n",
        "        self.dinputs[range(samples), y_true] -= 1  # derivative = y_pred - y_true = y_pred - 1 (for correct class)\n",
        "        self.dinputs = self.dinputs / samples  # normalized"
      ],
      "metadata": {
        "id": "Yj85sWY-S8hh"
      },
      "execution_count": null,
      "outputs": []
    },
    {
      "cell_type": "code",
      "source": [
        "from nnfs.datasets import spiral_data\n",
        "import numpy as np\n",
        "import nnfs\n",
        "nnfs.init()\n",
        "import matplotlib.pyplot as plt\n",
        "X, y = spiral_data(samples=100, classes=3)\n",
        "plt.scatter(X[:, 0], X[:, 1], c=y, cmap='brg')\n",
        "plt.show()"
      ],
      "metadata": {
        "colab": {
          "base_uri": "https://localhost:8080/",
          "height": 430
        },
        "id": "LZJN3_AsU2Q7",
        "outputId": "d9ccaf95-e3cd-423a-8416-53077d4c39c5"
      },
      "execution_count": null,
      "outputs": [
        {
          "output_type": "display_data",
          "data": {
            "text/plain": [
              "<Figure size 640x480 with 1 Axes>"
            ],
            "image/png": "[encoded data removed]"
          },
          "metadata": {}
        }
      ]
    },
    {
      "cell_type": "code",
      "source": [
        "#DATA\n",
        "X, y = spiral_data(samples=100, classes=3)\n",
        "\n",
        "#DENSE LAYER\n",
        "dense1 = Layer_Dense(2, 3)\n",
        "activation1 = Activation_ReLU()\n",
        "\n",
        "dense2 = Layer_Dense(3, 3)\n",
        "loss_activation = Activation_Softmax_Loss_CategoricalCrossentropy()\n",
        "\n",
        "#FORWARD PASS: Layer 1 -> activation 1-> Layer 2 -> softmax activation (2)\n",
        "dense1.forward(X)\n",
        "activation1.forward(dense1.output)\n",
        "dense2.forward(activation1.output)\n",
        "loss = loss_activation.forward(dense2.output, y)\n",
        "\n",
        "print(\"RESULT:\\n\", loss_activation.output[:5])\n",
        "print(\"\\n\")\n",
        "print('LOSS:', loss)\n",
        "\n",
        "predictions = np.argmax(loss_activation.output, axis=1)\n",
        "# print(\"Predictions: \", predictions)\n",
        "if len(y.shape) == 2:\n",
        "  y = np.argmax(y, axis=1)\n",
        "\n",
        "accuracy = np.mean(predictions == y)\n",
        "print(\"\\n\")\n",
        "print('ACCURACY:', accuracy)\n",
        "\n",
        "# Backward pass\n",
        "loss_activation.backward(loss_activation.output, y) #Softmax+Loss output to Dense 2 output\n",
        "dense2.backward(loss_activation.dinputs) #Dense 2 output to Dense 2 input\n",
        "activation1.backward(dense2.dinputs) #Dense2 input/Activation1 output to activation1 input\n",
        "dense1.backward(activation1.dinputs) #Activation 1 input/Dense1 output to Dense 1 input (data basically)\n",
        "\n",
        "#Gradients\n",
        "print()\n",
        "print(\"Grads: \")\n",
        "print(\"wrt weights of 1\")\n",
        "print(dense1.dweights)\n",
        "print(\"wrt biases of 1\")\n",
        "print(dense1.dbiases)\n",
        "print(\"wrt weights of 2\")\n",
        "print(dense2.dweights)\n",
        "print(\"wrt biases of 1\")\n",
        "print(dense2.dbiases)"
      ],
      "metadata": {
        "colab": {
          "base_uri": "https://localhost:8080/"
        },
        "id": "DKFhbywmXBJD",
        "outputId": "fcc06c3a-02c6-4212-99a4-e239264d0b5e"
      },
      "execution_count": null,
      "outputs": [
        {
          "output_type": "stream",
          "name": "stdout",
          "text": [
            "RESULT:\n",
            " [[0.33333334 0.33333334 0.33333334]\n",
            " [0.33333334 0.33333334 0.33333334]\n",
            " [0.33333334 0.3333333  0.33333334]\n",
            " [0.3333335  0.333333   0.33333352]\n",
            " [0.33333334 0.33333334 0.33333334]]\n",
            "\n",
            "\n",
            "LOSS: 1.0986118\n",
            "\n",
            "\n",
            "ACCURACY: 0.33666666666666667\n",
            "\n",
            "Grads: \n",
            "wrt weights of 1\n",
            "[[ 7.7209341e-05 -1.0590541e-04 -8.3512561e-05]\n",
            " [ 2.8525142e-04  6.1521474e-05 -9.9994701e-05]]\n",
            "wrt biases of 1\n",
            "[[ 0.00036935 -0.00025332  0.00021116]]\n",
            "wrt weights of 2\n",
            "[[ 1.0425548e-04  1.5916037e-05 -1.2017150e-04]\n",
            " [-4.9149978e-05  1.9419583e-04 -1.4504585e-04]\n",
            " [ 3.6147623e-05  1.0825427e-04 -1.4440189e-04]]\n",
            "wrt biases of 1\n",
            "[[ 1.0384247e-05 -1.0518939e-05  3.9814040e-08]]\n"
          ]
        }
      ]
    },
    {
      "cell_type": "markdown",
      "source": [
        "# SGD (without momentum)"
      ],
      "metadata": {
        "id": "ewPctiERGFM1"
      }
    },
    {
      "cell_type": "code",
      "source": [
        "class Optimizer_SGD:\n",
        "  def __init__(self, alpha=0.5):\n",
        "    self.alpha = alpha # learning rate\n",
        "  def update_params(self, layer):\n",
        "    layer.weights += -self.alpha*layer.dweights\n",
        "    layer.biases += -self.alpha*layer.dbiases"
      ],
      "metadata": {
        "id": "DdV6uieQX7zw"
      },
      "execution_count": null,
      "outputs": []
    },
    {
      "cell_type": "code",
      "source": [
        "X, y = spiral_data(samples=100, classes=3)\n",
        "\n",
        "dense1 = Layer_Dense(2, 64)\n",
        "activation1 = Activation_ReLU()\n",
        "dense2 = Layer_Dense(64, 3)\n",
        "loss_activation = Activation_Softmax_Loss_CategoricalCrossentropy()\n",
        "optimizer = Optimizer_SGD()\n",
        "\n",
        "for epoch in range(10001):\n",
        "    dense1.forward(X)\n",
        "    activation1.forward(dense1.output)\n",
        "    dense2.forward(activation1.output)\n",
        "    loss = loss_activation.forward(dense2.output, y)\n",
        "    predictions = np.argmax(loss_activation.output, axis=1)\n",
        "    if len(y.shape) == 2:\n",
        "        y = np.argmax(y, axis=1)\n",
        "    accuracy = np.mean(predictions == y)\n",
        "\n",
        "    if not epoch % 1000:\n",
        "        print(f'epoch: {epoch}, ' + f'acc: {accuracy:.3f}, ' + f'loss: {loss:.3f}')\n",
        "\n",
        "    loss_activation.backward(loss_activation.output, y)\n",
        "    dense2.backward(loss_activation.dinputs)\n",
        "    activation1.backward(dense2.dinputs)\n",
        "    dense1.backward(activation1.dinputs)\n",
        "\n",
        "    #optimizing\n",
        "    optimizer.update_params(dense1)\n",
        "    optimizer.update_params(dense2)\n"
      ],
      "metadata": {
        "colab": {
          "base_uri": "https://localhost:8080/"
        },
        "id": "PsZ1jMzRHxgs",
        "outputId": "8cbf7780-1de4-4806-a368-f8b0c545c519"
      },
      "execution_count": null,
      "outputs": [
        {
          "output_type": "stream",
          "name": "stdout",
          "text": [
            "epoch: 0, acc: 0.337, loss: 1.099\n",
            "epoch: 1000, acc: 0.410, loss: 1.070\n",
            "epoch: 2000, acc: 0.407, loss: 1.051\n",
            "epoch: 3000, acc: 0.470, loss: 1.014\n",
            "epoch: 4000, acc: 0.450, loss: 0.958\n",
            "epoch: 5000, acc: 0.460, loss: 0.881\n",
            "epoch: 6000, acc: 0.490, loss: 0.858\n",
            "epoch: 7000, acc: 0.517, loss: 0.831\n",
            "epoch: 8000, acc: 0.550, loss: 0.815\n",
            "epoch: 9000, acc: 0.580, loss: 0.770\n",
            "epoch: 10000, acc: 0.607, loss: 0.797\n"
          ]
        }
      ]
    },
    {
      "cell_type": "markdown",
      "source": [
        "# SGD with decaying learning rate"
      ],
      "metadata": {
        "id": "57UWNwn6GJqi"
      }
    },
    {
      "cell_type": "code",
      "source": [
        "class Optimizer_SGD:\n",
        "    def __init__(self, learning_rate=1., decay=0.):\n",
        "        self.learning_rate = learning_rate\n",
        "        self.current_learning_rate = learning_rate\n",
        "        self.decay = decay\n",
        "        self.iterations = 0\n",
        "\n",
        "    def pre_update_params(self):\n",
        "        if self.decay:\n",
        "            self.current_learning_rate = self.learning_rate * (1. / (1. + self.decay * self.iterations))\n",
        "\n",
        "    def update_params(self, layer):\n",
        "        layer.weights += -self.current_learning_rate * layer.dweights\n",
        "        layer.biases += -self.current_learning_rate * layer.dbiases\n",
        "\n",
        "    def post_update_params(self):\n",
        "        self.iterations += 1\n"
      ],
      "metadata": {
        "id": "wqY_2knVO-rR"
      },
      "execution_count": null,
      "outputs": []
    },
    {
      "cell_type": "code",
      "source": [
        "import numpy as np\n",
        "X, y = spiral_data(samples=100, classes=3)\n",
        "\n",
        "dense1 = Layer_Dense(2, 64)\n",
        "activation1 = Activation_ReLU()\n",
        "dense2 = Layer_Dense(64, 3)\n",
        "\n",
        "loss_activation = Activation_Softmax_Loss_CategoricalCrossentropy()\n",
        "\n",
        "optimizer = Optimizer_SGD(decay=1e-3)\n",
        "\n",
        "for epoch in range(10001):\n",
        "    dense1.forward(X)\n",
        "    activation1.forward(dense1.output)\n",
        "    dense2.forward(activation1.output)\n",
        "    loss = loss_activation.forward(dense2.output, y)\n",
        "\n",
        "    predictions = np.argmax(loss_activation.output, axis=1)\n",
        "    if len(y.shape) == 2:\n",
        "        y = np.argmax(y, axis=1)\n",
        "    accuracy = np.mean(predictions == y)\n",
        "\n",
        "    if not epoch % 1000:\n",
        "        print(f'epoch: {epoch}, ' + f'acc: {accuracy:.3f}, ' + f'loss: {loss:.3f}, ' + f'alpha: {optimizer.current_learning_rate}')\n",
        "\n",
        "    loss_activation.backward(loss_activation.output, y)\n",
        "    dense2.backward(loss_activation.dinputs)\n",
        "    activation1.backward(dense2.dinputs)\n",
        "    dense1.backward(activation1.dinputs)\n",
        "\n",
        "    #optimizing\n",
        "    optimizer.pre_update_params()\n",
        "    optimizer.update_params(dense1)\n",
        "    optimizer.update_params(dense2)\n",
        "    optimizer.post_update_params()\n"
      ],
      "metadata": {
        "colab": {
          "base_uri": "https://localhost:8080/"
        },
        "id": "KFQBbmUrPK4g",
        "outputId": "f04244d3-4cbf-46e6-b82e-5cb0ca215976"
      },
      "execution_count": null,
      "outputs": [
        {
          "output_type": "stream",
          "name": "stdout",
          "text": [
            "epoch: 0, acc: 0.310, loss: 1.099, alpha: 1.0\n",
            "epoch: 1000, acc: 0.423, loss: 1.062, alpha: 0.5002501250625312\n",
            "epoch: 2000, acc: 0.503, loss: 0.983, alpha: 0.33344448149383127\n",
            "epoch: 3000, acc: 0.560, loss: 0.899, alpha: 0.25006251562890724\n",
            "epoch: 4000, acc: 0.573, loss: 0.869, alpha: 0.2000400080016003\n",
            "epoch: 5000, acc: 0.613, loss: 0.822, alpha: 0.16669444907484582\n",
            "epoch: 6000, acc: 0.653, loss: 0.767, alpha: 0.1428775539362766\n",
            "epoch: 7000, acc: 0.707, loss: 0.715, alpha: 0.12501562695336915\n",
            "epoch: 8000, acc: 0.737, loss: 0.668, alpha: 0.11112345816201799\n",
            "epoch: 9000, acc: 0.753, loss: 0.625, alpha: 0.1000100010001\n",
            "epoch: 10000, acc: 0.773, loss: 0.592, alpha: 0.09091735612328393\n"
          ]
        }
      ]
    },
    {
      "cell_type": "markdown",
      "source": [
        "# SGD with momentum and decaying learning rate"
      ],
      "metadata": {
        "id": "WYZE6a6eGUbS"
      }
    },
    {
      "cell_type": "code",
      "source": [
        "import numpy as np\n",
        "\n",
        "class Optimizer_SGD:\n",
        "    def __init__(self, learning_rate=1., decay=0., momentum=0.):\n",
        "        self.learning_rate = learning_rate\n",
        "        self.current_learning_rate = learning_rate\n",
        "        self.decay = decay\n",
        "        self.iterations = 0\n",
        "        self.momentum = momentum\n",
        "\n",
        "    def pre_update_params(self):\n",
        "        if self.decay:\n",
        "            self.current_learning_rate = self.learning_rate * (1. / (1. + self.decay * self.iterations))\n",
        "\n",
        "    def update_params(self, layer):\n",
        "        if self.momentum:\n",
        "            if not hasattr(layer, 'weight_momentums'):\n",
        "                layer.weight_momentums = np.zeros_like(layer.weights)\n",
        "                layer.bias_momentums = np.zeros_like(layer.biases)\n",
        "\n",
        "            #weight\n",
        "            weight_updates = self.momentum * layer.weight_momentums - self.current_learning_rate * layer.dweights\n",
        "            layer.weight_momentums = weight_updates\n",
        "\n",
        "            #Bias\n",
        "            bias_updates = self.momentum * layer.bias_momentums - self.current_learning_rate * layer.dbiases\n",
        "            layer.bias_momentums = bias_updates\n",
        "\n",
        "        else:\n",
        "            weight_updates = -self.current_learning_rate * layer.dweights\n",
        "            bias_updates = -self.current_learning_rate * layer.dbiases\n",
        "\n",
        "        layer.weights += weight_updates\n",
        "        layer.biases += bias_updates\n",
        "\n",
        "    def post_update_params(self):\n",
        "        self.iterations += 1\n"
      ],
      "metadata": {
        "id": "sywqkFLhEvlM"
      },
      "execution_count": null,
      "outputs": []
    },
    {
      "cell_type": "code",
      "source": [
        "import numpy as np\n",
        "X, y = spiral_data(samples=100, classes=3)\n",
        "\n",
        "dense1 = Layer_Dense(2, 64)\n",
        "activation1 = Activation_ReLU()\n",
        "dense2 = Layer_Dense(64, 3)\n",
        "\n",
        "loss_activation = Activation_Softmax_Loss_CategoricalCrossentropy()\n",
        "\n",
        "optimizer = Optimizer_SGD(decay=1e-3, momentum=0.9)\n",
        "\n",
        "for epoch in range(10001):\n",
        "    dense1.forward(X)\n",
        "    activation1.forward(dense1.output)\n",
        "    dense2.forward(activation1.output)\n",
        "    loss = loss_activation.forward(dense2.output, y)\n",
        "\n",
        "    predictions = np.argmax(loss_activation.output, axis=1)\n",
        "    if len(y.shape) == 2:\n",
        "        y = np.argmax(y, axis=1)\n",
        "    accuracy = np.mean(predictions == y)\n",
        "\n",
        "    if not epoch % 1000:\n",
        "        print(f'epoch: {epoch}, ' + f'acc: {accuracy:.3f}, ' + f'loss: {loss:.3f}, ' + f'alpha: {optimizer.current_learning_rate}')\n",
        "\n",
        "    loss_activation.backward(loss_activation.output, y)\n",
        "    dense2.backward(loss_activation.dinputs)\n",
        "    activation1.backward(dense2.dinputs)\n",
        "    dense1.backward(activation1.dinputs)\n",
        "\n",
        "    #optimizing\n",
        "    optimizer.pre_update_params()\n",
        "    optimizer.update_params(dense1)\n",
        "    optimizer.update_params(dense2)\n",
        "    optimizer.post_update_params()\n"
      ],
      "metadata": {
        "colab": {
          "base_uri": "https://localhost:8080/"
        },
        "id": "hhMFV-gEFMKo",
        "outputId": "668e77b4-d3d0-49d7-f9e1-d4918996528e"
      },
      "execution_count": null,
      "outputs": [
        {
          "output_type": "stream",
          "name": "stdout",
          "text": [
            "epoch: 0, acc: 0.323, loss: 1.099, alpha: 1.0\n",
            "epoch: 1000, acc: 0.720, loss: 0.589, alpha: 0.5002501250625312\n",
            "epoch: 2000, acc: 0.733, loss: 0.550, alpha: 0.33344448149383127\n",
            "epoch: 3000, acc: 0.733, loss: 0.544, alpha: 0.25006251562890724\n",
            "epoch: 4000, acc: 0.733, loss: 0.541, alpha: 0.2000400080016003\n",
            "epoch: 5000, acc: 0.733, loss: 0.540, alpha: 0.16669444907484582\n",
            "epoch: 6000, acc: 0.733, loss: 0.539, alpha: 0.1428775539362766\n",
            "epoch: 7000, acc: 0.733, loss: 0.538, alpha: 0.12501562695336915\n",
            "epoch: 8000, acc: 0.733, loss: 0.536, alpha: 0.11112345816201799\n",
            "epoch: 9000, acc: 0.733, loss: 0.534, alpha: 0.1000100010001\n",
            "epoch: 10000, acc: 0.733, loss: 0.534, alpha: 0.09091735612328393\n"
          ]
        }
      ]
    },
    {
      "cell_type": "markdown",
      "source": [
        "# Adagrad optimizer\n",
        "## w = w- α.(dL/dw)/sqrt(cache+ϵ)\n",
        "\n",
        "where epsilon is summation ∑ω^2 from t=0 to t=t\n"
      ],
      "metadata": {
        "id": "HBLsTpUgGjOm"
      }
    },
    {
      "cell_type": "code",
      "source": [
        "import numpy as np\n",
        "\n",
        "class Optimizer_Adagrad:\n",
        "    def __init__(self, learning_rate=1., decay=0., epsilon=1e-7):\n",
        "        self.learning_rate = learning_rate\n",
        "        self.current_learning_rate = learning_rate\n",
        "        self.decay = decay\n",
        "        self.iterations = 0\n",
        "        self.epsilon = epsilon\n",
        "\n",
        "    def pre_update_params(self):\n",
        "        if self.decay:\n",
        "            self.current_learning_rate = self.learning_rate * (1./(1. + self.decay*self.iterations))\n",
        "    def update_params(self, layer):\n",
        "        if not hasattr(layer, 'weight_cache'):\n",
        "            layer.weight_cache = np.zeros_like(layer.weights)\n",
        "            layer.bias_cache = np.zeros_like(layer.biases)\n",
        "\n",
        "        layer.weight_cache += layer.dweights**2\n",
        "        layer.bias_cache += layer.dbiases**2\n",
        "\n",
        "        layer.weights += -self.current_learning_rate * layer.dweights/(np.sqrt(layer.weight_cache)+self.epsilon)\n",
        "        layer.biases += -self.current_learning_rate * layer.dbiases/(np.sqrt(layer.bias_cache)+self.epsilon)\n",
        "\n",
        "    def post_update_params(self):\n",
        "        self.iterations += 1\n"
      ],
      "metadata": {
        "id": "oVyfkkNdFT4J"
      },
      "execution_count": null,
      "outputs": []
    },
    {
      "cell_type": "code",
      "source": [
        "import numpy as np\n",
        "X, y = spiral_data(samples=100, classes=3)\n",
        "\n",
        "dense1 = Layer_Dense(2, 64)\n",
        "activation1 = Activation_ReLU()\n",
        "dense2 = Layer_Dense(64, 3)\n",
        "\n",
        "loss_activation = Activation_Softmax_Loss_CategoricalCrossentropy()\n",
        "\n",
        "optimizer = Optimizer_Adagrad(decay=1e-4)\n",
        "\n",
        "for epoch in range(10001):\n",
        "    dense1.forward(X)\n",
        "    activation1.forward(dense1.output)\n",
        "    dense2.forward(activation1.output)\n",
        "    loss = loss_activation.forward(dense2.output, y)\n",
        "\n",
        "    predictions = np.argmax(loss_activation.output, axis=1)\n",
        "    if len(y.shape) == 2:\n",
        "        y = np.argmax(y, axis=1)\n",
        "    accuracy = np.mean(predictions == y)\n",
        "\n",
        "    if not epoch % 1000:\n",
        "        print(f'epoch: {epoch}, ' + f'acc: {accuracy:.3f}, ' + f'loss: {loss:.3f}, ' + f'alpha: {optimizer.current_learning_rate}')\n",
        "\n",
        "    loss_activation.backward(loss_activation.output, y)\n",
        "    dense2.backward(loss_activation.dinputs)\n",
        "    activation1.backward(dense2.dinputs)\n",
        "    dense1.backward(activation1.dinputs)\n",
        "\n",
        "    #optimizing\n",
        "    optimizer.pre_update_params()\n",
        "    optimizer.update_params(dense1)\n",
        "    optimizer.update_params(dense2)\n",
        "    optimizer.post_update_params()\n"
      ],
      "metadata": {
        "colab": {
          "base_uri": "https://localhost:8080/"
        },
        "id": "rRbg9jpoFYhS",
        "outputId": "b8c6669a-5f74-4465-82c2-2e39eb074685"
      },
      "execution_count": null,
      "outputs": [
        {
          "output_type": "stream",
          "name": "stdout",
          "text": [
            "epoch: 0, acc: 0.287, loss: 1.099, alpha: 1.0\n",
            "epoch: 1000, acc: 0.577, loss: 0.796, alpha: 0.9091735612328392\n",
            "epoch: 2000, acc: 0.653, loss: 0.726, alpha: 0.8334027835652972\n",
            "epoch: 3000, acc: 0.743, loss: 0.613, alpha: 0.7692899453804138\n",
            "epoch: 4000, acc: 0.750, loss: 0.569, alpha: 0.7143367383384527\n",
            "epoch: 5000, acc: 0.747, loss: 0.547, alpha: 0.6667111140742716\n",
            "epoch: 6000, acc: 0.743, loss: 0.533, alpha: 0.6250390649415589\n",
            "epoch: 7000, acc: 0.743, loss: 0.523, alpha: 0.5882698982293076\n",
            "epoch: 8000, acc: 0.750, loss: 0.514, alpha: 0.5555864214678593\n",
            "epoch: 9000, acc: 0.760, loss: 0.506, alpha: 0.5263434917627243\n",
            "epoch: 10000, acc: 0.757, loss: 0.501, alpha: 0.5000250012500626\n"
          ]
        }
      ]
    },
    {
      "cell_type": "markdown",
      "source": [
        "# RMSProp optimizer\n",
        "## cache= rho*(prev_cache) + (1-rho)*grad^2\n",
        "rho = beta"
      ],
      "metadata": {
        "id": "yQRNQv9fH4zX"
      }
    },
    {
      "cell_type": "code",
      "source": [
        "import numpy as np\n",
        "\n",
        "class Optimizer_RMSprop:\n",
        "    def __init__(self, learning_rate=0.001, decay=0., epsilon=1e-7, rho=0.9):\n",
        "        self.learning_rate = learning_rate\n",
        "        self.current_learning_rate = learning_rate\n",
        "        self.decay = decay\n",
        "        self.iterations = 0\n",
        "        self.epsilon = epsilon\n",
        "        self.rho = rho\n",
        "\n",
        "    def pre_update_params(self):\n",
        "        if self.decay:\n",
        "            self.current_learning_rate = self.learning_rate * (1./(1. + self.decay*self.iterations))\n",
        "\n",
        "    def update_params(self, layer):\n",
        "        if not hasattr(layer, 'weight_cache'):\n",
        "            layer.weight_cache = np.zeros_like(layer.weights)\n",
        "            layer.bias_cache = np.zeros_like(layer.biases)\n",
        "\n",
        "        layer.weight_cache = self.rho*layer.weight_cache + (1 - self.rho)*layer.dweights**2\n",
        "        layer.bias_cache = self.rho * layer.bias_cache + (1 - self.rho)*layer.dbiases**2\n",
        "\n",
        "        layer.weights += -self.current_learning_rate * layer.dweights/(np.sqrt(layer.weight_cache)+self.epsilon)\n",
        "        layer.biases += -self.current_learning_rate *layer.dbiases/(np.sqrt(layer.bias_cache)+self.epsilon)\n",
        "\n",
        "    def post_update_params(self):\n",
        "        self.iterations += 1\n"
      ],
      "metadata": {
        "id": "whvKOOJBFiyQ"
      },
      "execution_count": null,
      "outputs": []
    },
    {
      "cell_type": "code",
      "source": [
        "import numpy as np\n",
        "X, y = spiral_data(samples=100, classes=3)\n",
        "\n",
        "dense1 = Layer_Dense(2, 64)\n",
        "activation1 = Activation_ReLU()\n",
        "dense2 = Layer_Dense(64, 3)\n",
        "\n",
        "loss_activation = Activation_Softmax_Loss_CategoricalCrossentropy()\n",
        "\n",
        "optimizer = Optimizer_RMSprop(learning_rate=0.02, decay=1e-5,rho=0.999)\n",
        "\n",
        "for epoch in range(10001):\n",
        "    dense1.forward(X)\n",
        "    activation1.forward(dense1.output)\n",
        "    dense2.forward(activation1.output)\n",
        "    loss = loss_activation.forward(dense2.output, y)\n",
        "\n",
        "    predictions = np.argmax(loss_activation.output, axis=1)\n",
        "    if len(y.shape) == 2:\n",
        "        y = np.argmax(y, axis=1)\n",
        "    accuracy = np.mean(predictions == y)\n",
        "\n",
        "    if not epoch % 1000:\n",
        "        print(f'epoch: {epoch}, ' + f'acc: {accuracy:.3f}, ' + f'loss: {loss:.3f}, ' + f'alpha: {optimizer.current_learning_rate}')\n",
        "\n",
        "    loss_activation.backward(loss_activation.output, y)\n",
        "    dense2.backward(loss_activation.dinputs)\n",
        "    activation1.backward(dense2.dinputs)\n",
        "    dense1.backward(activation1.dinputs)\n",
        "\n",
        "    #optimizing\n",
        "    optimizer.pre_update_params()\n",
        "    optimizer.update_params(dense1)\n",
        "    optimizer.update_params(dense2)\n",
        "    optimizer.post_update_params()\n"
      ],
      "metadata": {
        "colab": {
          "base_uri": "https://localhost:8080/"
        },
        "id": "sMFc6OCyFrTr",
        "outputId": "d566c92c-1559-417e-e79f-1df3649ef8d4"
      },
      "execution_count": null,
      "outputs": [
        {
          "output_type": "stream",
          "name": "stdout",
          "text": [
            "epoch: 0, acc: 0.333, loss: 1.099, alpha: 0.02\n",
            "epoch: 1000, acc: 0.547, loss: 0.906, alpha: 0.019802176259170884\n",
            "epoch: 2000, acc: 0.613, loss: 0.814, alpha: 0.019608035372895814\n",
            "epoch: 3000, acc: 0.667, loss: 0.751, alpha: 0.01941766424916747\n",
            "epoch: 4000, acc: 0.703, loss: 0.646, alpha: 0.019230954143789846\n",
            "epoch: 5000, acc: 0.700, loss: 0.622, alpha: 0.01904780045524243\n",
            "epoch: 6000, acc: 0.757, loss: 0.579, alpha: 0.018868102529269144\n",
            "epoch: 7000, acc: 0.770, loss: 0.552, alpha: 0.018691763474424996\n",
            "epoch: 8000, acc: 0.730, loss: 0.552, alpha: 0.01851868998787026\n",
            "epoch: 9000, acc: 0.733, loss: 0.523, alpha: 0.018348792190754044\n",
            "epoch: 10000, acc: 0.730, loss: 0.525, alpha: 0.018181983472577025\n"
          ]
        }
      ]
    },
    {
      "cell_type": "markdown",
      "source": [
        "# ADAM Optimizer\n",
        "uses momentum as well as idea of different learning rate for different w"
      ],
      "metadata": {
        "id": "HjbRBh4fIwe_"
      }
    },
    {
      "cell_type": "code",
      "source": [
        "import numpy as np\n",
        "\n",
        "class Optimizer_Adam:\n",
        "    def __init__(self, learning_rate=0.001, decay=0., epsilon=1e-7, beta_1=0.9, beta_2=0.999):\n",
        "        self.learning_rate = learning_rate\n",
        "        self.current_learning_rate = learning_rate\n",
        "        self.decay = decay\n",
        "        self.iterations = 0\n",
        "        self.epsilon = epsilon\n",
        "        self.beta_1 = beta_1 #For momentum\n",
        "        self.beta_2 = beta_2 #For cache term\n",
        "\n",
        "    def pre_update_params(self):\n",
        "        if self.decay:\n",
        "            self.current_learning_rate = self.learning_rate * (1. / (1. + self.decay * self.iterations))\n",
        "\n",
        "    def update_params(self, layer):\n",
        "        if not hasattr(layer, 'weight_cache'):\n",
        "            layer.weight_momentums = np.zeros_like(layer.weights)\n",
        "            layer.weight_cache = np.zeros_like(layer.weights)\n",
        "            layer.bias_momentums = np.zeros_like(layer.biases)\n",
        "            layer.bias_cache = np.zeros_like(layer.biases)\n",
        "\n",
        "        layer.weight_momentums = self.beta_1 * layer.weight_momentums + (1-self.beta_1)*layer.dweights\n",
        "        layer.bias_momentums = self.beta_1 * layer.bias_momentums + (1-self.beta_1)*layer.dbiases\n",
        "\n",
        "        weight_momentums_corrected = layer.weight_momentums/(1-self.beta_1**(self.iterations + 1))\n",
        "        bias_momentums_corrected = layer.bias_momentums/(1-self.beta_1**(self.iterations + 1))\n",
        "\n",
        "        layer.weight_cache = self.beta_2 * layer.weight_cache + (1-self.beta_2)*layer.dweights**2\n",
        "        layer.bias_cache = self.beta_2 * layer.bias_cache + (1-self.beta_2)*layer.dbiases**2\n",
        "\n",
        "        weight_cache_corrected = layer.weight_cache/(1-self.beta_2**(self.iterations + 1))\n",
        "        bias_cache_corrected = layer.bias_cache/(1 -self.beta_2**(self.iterations + 1))\n",
        "\n",
        "        layer.weights += -self.current_learning_rate * weight_momentums_corrected/(np.sqrt(weight_cache_corrected) + self.epsilon)\n",
        "        layer.biases += -self.current_learning_rate * bias_momentums_corrected/(np.sqrt(bias_cache_corrected) + self.epsilon)\n",
        "\n",
        "\n",
        "    def post_update_params(self):\n",
        "        self.iterations += 1\n"
      ],
      "metadata": {
        "id": "HS8jEeWPFxJF"
      },
      "execution_count": null,
      "outputs": []
    },
    {
      "cell_type": "code",
      "source": [
        "import numpy as np\n",
        "X, y = spiral_data(samples=100, classes=3)\n",
        "\n",
        "dense1 = Layer_Dense(2, 64)\n",
        "activation1 = Activation_ReLU()\n",
        "dense2 = Layer_Dense(64, 3)\n",
        "\n",
        "loss_activation = Activation_Softmax_Loss_CategoricalCrossentropy()\n",
        "\n",
        "# optimizer = Optimizer_SGD(decay=8e-8, momentum=0.9)\n",
        "#optimizer = Optimizer_Adagrad(decay=1e-4)\n",
        "#optimizer = Optimizer_RMSprop(decay=1e-4)\n",
        "#optimizer = Optimizer_RMSprop(learning_rate=0.02, decay=1e-5,rho=0.999)\n",
        "optimizer = Optimizer_Adam(learning_rate=0.02, decay=1e-5)\n",
        "\n",
        "for epoch in range(20001):\n",
        "    dense1.forward(X)\n",
        "    activation1.forward(dense1.output)\n",
        "    dense2.forward(activation1.output)\n",
        "    loss = loss_activation.forward(dense2.output, y)\n",
        "\n",
        "    predictions = np.argmax(loss_activation.output, axis=1)\n",
        "    if len(y.shape) == 2:\n",
        "        y = np.argmax(y, axis=1)\n",
        "    accuracy = np.mean(predictions == y)\n",
        "\n",
        "    if not epoch % 100:\n",
        "        print(f'epoch: {epoch}, ' + f'acc: {accuracy:.3f}, ' + f'loss: {loss:.3f}, ' + f'alpha: {optimizer.current_learning_rate}')\n",
        "\n",
        "    loss_activation.backward(loss_activation.output, y)\n",
        "    dense2.backward(loss_activation.dinputs)\n",
        "    activation1.backward(dense2.dinputs)\n",
        "    dense1.backward(activation1.dinputs)\n",
        "\n",
        "    #optimizing\n",
        "    optimizer.pre_update_params()\n",
        "    optimizer.update_params(dense1)\n",
        "    optimizer.update_params(dense2)\n",
        "    optimizer.post_update_params()\n"
      ],
      "metadata": {
        "colab": {
          "base_uri": "https://localhost:8080/"
        },
        "id": "iEbF1AhVLYOY",
        "outputId": "cc17f36d-60b2-4985-9370-f15c0124e7d3"
      },
      "execution_count": null,
      "outputs": [
        {
          "output_type": "stream",
          "name": "stdout",
          "text": [
            "epoch: 0, acc: 0.320, loss: 1.099, alpha: 0.02\n",
            "epoch: 100, acc: 0.587, loss: 0.889, alpha: 0.01998021958261321\n",
            "epoch: 200, acc: 0.687, loss: 0.692, alpha: 0.019960279044701046\n",
            "epoch: 300, acc: 0.700, loss: 0.599, alpha: 0.019940378268975763\n",
            "epoch: 400, acc: 0.713, loss: 0.543, alpha: 0.01992051713662487\n",
            "epoch: 500, acc: 0.743, loss: 0.509, alpha: 0.01990069552930875\n",
            "epoch: 600, acc: 0.767, loss: 0.481, alpha: 0.019880913329158343\n",
            "epoch: 700, acc: 0.747, loss: 0.462, alpha: 0.019861170418772778\n",
            "epoch: 800, acc: 0.803, loss: 0.438, alpha: 0.019841466681217078\n",
            "epoch: 900, acc: 0.810, loss: 0.421, alpha: 0.01982180200001982\n",
            "epoch: 1000, acc: 0.793, loss: 0.419, alpha: 0.019802176259170884\n",
            "epoch: 1100, acc: 0.823, loss: 0.393, alpha: 0.01978258934311912\n",
            "epoch: 1200, acc: 0.817, loss: 0.381, alpha: 0.01976304113677013\n",
            "epoch: 1300, acc: 0.847, loss: 0.370, alpha: 0.019743531525483964\n",
            "epoch: 1400, acc: 0.843, loss: 0.362, alpha: 0.01972406039507293\n",
            "epoch: 1500, acc: 0.843, loss: 0.354, alpha: 0.019704627631799327\n",
            "epoch: 1600, acc: 0.843, loss: 0.349, alpha: 0.019685233122373254\n",
            "epoch: 1700, acc: 0.853, loss: 0.341, alpha: 0.019665876753950384\n",
            "epoch: 1800, acc: 0.863, loss: 0.333, alpha: 0.01964655841412981\n",
            "epoch: 1900, acc: 0.870, loss: 0.329, alpha: 0.019627277990951823\n",
            "epoch: 2000, acc: 0.880, loss: 0.323, alpha: 0.019608035372895814\n",
            "epoch: 2100, acc: 0.863, loss: 0.309, alpha: 0.01958883044887805\n",
            "epoch: 2200, acc: 0.870, loss: 0.301, alpha: 0.019569663108249594\n",
            "epoch: 2300, acc: 0.880, loss: 0.298, alpha: 0.01955053324079414\n",
            "epoch: 2400, acc: 0.880, loss: 0.290, alpha: 0.019531440736725945\n",
            "epoch: 2500, acc: 0.880, loss: 0.285, alpha: 0.019512385486687673\n",
            "epoch: 2600, acc: 0.880, loss: 0.281, alpha: 0.019493367381748363\n",
            "epoch: 2700, acc: 0.877, loss: 0.278, alpha: 0.019474386313401298\n",
            "epoch: 2800, acc: 0.880, loss: 0.274, alpha: 0.019455442173562\n",
            "epoch: 2900, acc: 0.873, loss: 0.272, alpha: 0.019436534854566128\n",
            "epoch: 3000, acc: 0.880, loss: 0.268, alpha: 0.01941766424916747\n",
            "epoch: 3100, acc: 0.873, loss: 0.266, alpha: 0.019398830250535893\n",
            "epoch: 3200, acc: 0.877, loss: 0.267, alpha: 0.019380032752255354\n",
            "epoch: 3300, acc: 0.880, loss: 0.261, alpha: 0.01936127164832186\n",
            "epoch: 3400, acc: 0.870, loss: 0.260, alpha: 0.01934254683314152\n",
            "epoch: 3500, acc: 0.873, loss: 0.257, alpha: 0.019323858201528515\n",
            "epoch: 3600, acc: 0.883, loss: 0.256, alpha: 0.019305205648703173\n",
            "epoch: 3700, acc: 0.883, loss: 0.255, alpha: 0.01928658907028997\n",
            "epoch: 3800, acc: 0.883, loss: 0.252, alpha: 0.01926800836231563\n",
            "epoch: 3900, acc: 0.873, loss: 0.251, alpha: 0.019249463421207133\n",
            "epoch: 4000, acc: 0.883, loss: 0.250, alpha: 0.019230954143789846\n",
            "epoch: 4100, acc: 0.890, loss: 0.248, alpha: 0.019212480427285565\n",
            "epoch: 4200, acc: 0.890, loss: 0.247, alpha: 0.019194042169310647\n",
            "epoch: 4300, acc: 0.893, loss: 0.246, alpha: 0.019175639267874092\n",
            "epoch: 4400, acc: 0.887, loss: 0.246, alpha: 0.019157271621375684\n",
            "epoch: 4500, acc: 0.890, loss: 0.243, alpha: 0.0191389391286041\n",
            "epoch: 4600, acc: 0.893, loss: 0.243, alpha: 0.019120641688735073\n",
            "epoch: 4700, acc: 0.890, loss: 0.242, alpha: 0.019102379201329525\n",
            "epoch: 4800, acc: 0.893, loss: 0.241, alpha: 0.01908415156633174\n",
            "epoch: 4900, acc: 0.893, loss: 0.240, alpha: 0.01906595868406753\n",
            "epoch: 5000, acc: 0.897, loss: 0.239, alpha: 0.01904780045524243\n",
            "epoch: 5100, acc: 0.900, loss: 0.239, alpha: 0.019029676780939874\n",
            "epoch: 5200, acc: 0.900, loss: 0.238, alpha: 0.019011587562619416\n",
            "epoch: 5300, acc: 0.890, loss: 0.238, alpha: 0.01899353270211493\n",
            "epoch: 5400, acc: 0.893, loss: 0.237, alpha: 0.018975512101632844\n",
            "epoch: 5500, acc: 0.897, loss: 0.236, alpha: 0.018957525663750367\n",
            "epoch: 5600, acc: 0.903, loss: 0.235, alpha: 0.018939573291413745\n",
            "epoch: 5700, acc: 0.897, loss: 0.234, alpha: 0.018921654887936498\n",
            "epoch: 5800, acc: 0.900, loss: 0.233, alpha: 0.018903770356997706\n",
            "epoch: 5900, acc: 0.900, loss: 0.232, alpha: 0.018885919602640248\n",
            "epoch: 6000, acc: 0.893, loss: 0.232, alpha: 0.018868102529269144\n",
            "epoch: 6100, acc: 0.897, loss: 0.230, alpha: 0.018850319041649778\n",
            "epoch: 6200, acc: 0.893, loss: 0.232, alpha: 0.018832569044906263\n",
            "epoch: 6300, acc: 0.900, loss: 0.229, alpha: 0.018814852444519702\n",
            "epoch: 6400, acc: 0.903, loss: 0.228, alpha: 0.018797169146326564\n",
            "epoch: 6500, acc: 0.903, loss: 0.227, alpha: 0.01877951905651696\n",
            "epoch: 6600, acc: 0.903, loss: 0.226, alpha: 0.018761902081633034\n",
            "epoch: 6700, acc: 0.903, loss: 0.226, alpha: 0.018744318128567278\n",
            "epoch: 6800, acc: 0.900, loss: 0.224, alpha: 0.018726767104560903\n",
            "epoch: 6900, acc: 0.900, loss: 0.223, alpha: 0.018709248917202218\n",
            "epoch: 7000, acc: 0.903, loss: 0.222, alpha: 0.018691763474424996\n",
            "epoch: 7100, acc: 0.900, loss: 0.222, alpha: 0.018674310684506857\n",
            "epoch: 7200, acc: 0.903, loss: 0.223, alpha: 0.01865689045606769\n",
            "epoch: 7300, acc: 0.907, loss: 0.220, alpha: 0.01863950269806802\n",
            "epoch: 7400, acc: 0.903, loss: 0.219, alpha: 0.018622147319807447\n",
            "epoch: 7500, acc: 0.903, loss: 0.218, alpha: 0.018604824230923075\n",
            "epoch: 7600, acc: 0.903, loss: 0.217, alpha: 0.01858753334138793\n",
            "epoch: 7700, acc: 0.903, loss: 0.218, alpha: 0.018570274561509396\n",
            "epoch: 7800, acc: 0.903, loss: 0.216, alpha: 0.018553047801927663\n",
            "epoch: 7900, acc: 0.903, loss: 0.214, alpha: 0.018535852973614212\n",
            "epoch: 8000, acc: 0.910, loss: 0.214, alpha: 0.01851868998787026\n",
            "epoch: 8100, acc: 0.903, loss: 0.215, alpha: 0.018501558756325222\n",
            "epoch: 8200, acc: 0.907, loss: 0.216, alpha: 0.01848445919093522\n",
            "epoch: 8300, acc: 0.913, loss: 0.211, alpha: 0.018467391203981567\n",
            "epoch: 8400, acc: 0.903, loss: 0.208, alpha: 0.018450354708069265\n",
            "epoch: 8500, acc: 0.907, loss: 0.205, alpha: 0.018433349616125496\n",
            "epoch: 8600, acc: 0.907, loss: 0.205, alpha: 0.018416375841398172\n",
            "epoch: 8700, acc: 0.907, loss: 0.203, alpha: 0.01839943329745444\n",
            "epoch: 8800, acc: 0.907, loss: 0.203, alpha: 0.01838252189817921\n",
            "epoch: 8900, acc: 0.907, loss: 0.202, alpha: 0.018365641557773718\n",
            "epoch: 9000, acc: 0.907, loss: 0.201, alpha: 0.018348792190754044\n",
            "epoch: 9100, acc: 0.907, loss: 0.202, alpha: 0.0183319737119497\n",
            "epoch: 9200, acc: 0.907, loss: 0.201, alpha: 0.018315186036502167\n",
            "epoch: 9300, acc: 0.907, loss: 0.199, alpha: 0.018298429079863496\n",
            "epoch: 9400, acc: 0.907, loss: 0.202, alpha: 0.018281702757794862\n",
            "epoch: 9500, acc: 0.907, loss: 0.197, alpha: 0.018265006986365174\n",
            "epoch: 9600, acc: 0.907, loss: 0.197, alpha: 0.018248341681949654\n",
            "epoch: 9700, acc: 0.907, loss: 0.196, alpha: 0.018231706761228456\n",
            "epoch: 9800, acc: 0.913, loss: 0.196, alpha: 0.018215102141185255\n",
            "epoch: 9900, acc: 0.910, loss: 0.195, alpha: 0.018198527739105907\n",
            "epoch: 10000, acc: 0.913, loss: 0.197, alpha: 0.018181983472577025\n",
            "epoch: 10100, acc: 0.907, loss: 0.195, alpha: 0.01816546925948465\n",
            "epoch: 10200, acc: 0.913, loss: 0.196, alpha: 0.01814898501801287\n",
            "epoch: 10300, acc: 0.910, loss: 0.194, alpha: 0.018132530666642492\n",
            "epoch: 10400, acc: 0.910, loss: 0.193, alpha: 0.018116106124149677\n",
            "epoch: 10500, acc: 0.910, loss: 0.198, alpha: 0.018099711309604614\n",
            "epoch: 10600, acc: 0.907, loss: 0.192, alpha: 0.018083346142370185\n",
            "epoch: 10700, acc: 0.910, loss: 0.191, alpha: 0.018067010542100654\n",
            "epoch: 10800, acc: 0.907, loss: 0.192, alpha: 0.018050704428740332\n",
            "epoch: 10900, acc: 0.907, loss: 0.190, alpha: 0.018034427722522298\n",
            "epoch: 11000, acc: 0.907, loss: 0.190, alpha: 0.018018180343967065\n",
            "epoch: 11100, acc: 0.910, loss: 0.189, alpha: 0.018001962213881315\n",
            "epoch: 11200, acc: 0.917, loss: 0.191, alpha: 0.017985773253356593\n",
            "epoch: 11300, acc: 0.910, loss: 0.195, alpha: 0.01796961338376805\n",
            "epoch: 11400, acc: 0.913, loss: 0.195, alpha: 0.017953482526773132\n",
            "epoch: 11500, acc: 0.900, loss: 0.188, alpha: 0.017937380604310355\n",
            "epoch: 11600, acc: 0.907, loss: 0.188, alpha: 0.017921307538598014\n",
            "epoch: 11700, acc: 0.917, loss: 0.190, alpha: 0.017905263252132965\n",
            "epoch: 11800, acc: 0.907, loss: 0.188, alpha: 0.017889247667689335\n",
            "epoch: 11900, acc: 0.907, loss: 0.188, alpha: 0.017873260708317323\n",
            "epoch: 12000, acc: 0.907, loss: 0.188, alpha: 0.01785730229734194\n",
            "epoch: 12100, acc: 0.900, loss: 0.187, alpha: 0.017841372358361807\n",
            "epoch: 12200, acc: 0.917, loss: 0.188, alpha: 0.017825470815247907\n",
            "epoch: 12300, acc: 0.917, loss: 0.188, alpha: 0.017809597592142408\n",
            "epoch: 12400, acc: 0.907, loss: 0.186, alpha: 0.017793752613457416\n",
            "epoch: 12500, acc: 0.903, loss: 0.186, alpha: 0.017777935803873813\n",
            "epoch: 12600, acc: 0.903, loss: 0.186, alpha: 0.017762147088340036\n",
            "epoch: 12700, acc: 0.917, loss: 0.186, alpha: 0.017746386392070917\n",
            "epoch: 12800, acc: 0.907, loss: 0.182, alpha: 0.01773065364054646\n",
            "epoch: 12900, acc: 0.920, loss: 0.183, alpha: 0.017714948759510712\n",
            "epoch: 13000, acc: 0.920, loss: 0.183, alpha: 0.017699271674970575\n",
            "epoch: 13100, acc: 0.910, loss: 0.183, alpha: 0.017683622313194636\n",
            "epoch: 13200, acc: 0.910, loss: 0.185, alpha: 0.01766800060071202\n",
            "epoch: 13300, acc: 0.907, loss: 0.181, alpha: 0.017652406464311248\n",
            "epoch: 13400, acc: 0.907, loss: 0.181, alpha: 0.017636839831039072\n",
            "epoch: 13500, acc: 0.907, loss: 0.181, alpha: 0.017621300628199367\n",
            "epoch: 13600, acc: 0.920, loss: 0.182, alpha: 0.017605788783351967\n",
            "epoch: 13700, acc: 0.910, loss: 0.181, alpha: 0.01759030422431156\n",
            "epoch: 13800, acc: 0.910, loss: 0.181, alpha: 0.017574846879146563\n",
            "epoch: 13900, acc: 0.907, loss: 0.180, alpha: 0.01755941667617802\n",
            "epoch: 14000, acc: 0.920, loss: 0.181, alpha: 0.017544013543978457\n",
            "epoch: 14100, acc: 0.907, loss: 0.180, alpha: 0.01752863741137083\n",
            "epoch: 14200, acc: 0.913, loss: 0.180, alpha: 0.017513288207427386\n",
            "epoch: 14300, acc: 0.910, loss: 0.179, alpha: 0.017497965861468606\n",
            "epoch: 14400, acc: 0.920, loss: 0.180, alpha: 0.017482670303062088\n",
            "epoch: 14500, acc: 0.917, loss: 0.180, alpha: 0.017467401462021505\n",
            "epoch: 14600, acc: 0.907, loss: 0.179, alpha: 0.017452159268405484\n",
            "epoch: 14700, acc: 0.910, loss: 0.179, alpha: 0.01743694365251659\n",
            "epoch: 14800, acc: 0.917, loss: 0.179, alpha: 0.017421754544900216\n",
            "epoch: 14900, acc: 0.907, loss: 0.178, alpha: 0.017406591876343573\n",
            "epoch: 15000, acc: 0.913, loss: 0.184, alpha: 0.01739145557787459\n",
            "epoch: 15100, acc: 0.910, loss: 0.178, alpha: 0.01737634558076091\n",
            "epoch: 15200, acc: 0.910, loss: 0.181, alpha: 0.01736126181650882\n",
            "epoch: 15300, acc: 0.910, loss: 0.178, alpha: 0.017346204216862247\n",
            "epoch: 15400, acc: 0.920, loss: 0.178, alpha: 0.01733117271380168\n",
            "epoch: 15500, acc: 0.910, loss: 0.177, alpha: 0.0173161672395432\n",
            "epoch: 15600, acc: 0.907, loss: 0.177, alpha: 0.017301187726537427\n",
            "epoch: 15700, acc: 0.907, loss: 0.177, alpha: 0.017286234107468518\n",
            "epoch: 15800, acc: 0.920, loss: 0.178, alpha: 0.017271306315253154\n",
            "epoch: 15900, acc: 0.910, loss: 0.177, alpha: 0.017256404283039543\n",
            "epoch: 16000, acc: 0.920, loss: 0.177, alpha: 0.017241527944206414\n",
            "epoch: 16100, acc: 0.923, loss: 0.178, alpha: 0.017226677232362035\n",
            "epoch: 16200, acc: 0.923, loss: 0.179, alpha: 0.01721185208134321\n",
            "epoch: 16300, acc: 0.913, loss: 0.183, alpha: 0.01719705242521432\n",
            "epoch: 16400, acc: 0.917, loss: 0.177, alpha: 0.01718227819826631\n",
            "epoch: 16500, acc: 0.913, loss: 0.177, alpha: 0.017167529335015752\n",
            "epoch: 16600, acc: 0.920, loss: 0.177, alpha: 0.017152805770203863\n",
            "epoch: 16700, acc: 0.910, loss: 0.176, alpha: 0.017138107438795534\n",
            "epoch: 16800, acc: 0.920, loss: 0.176, alpha: 0.01712343427597839\n",
            "epoch: 16900, acc: 0.913, loss: 0.175, alpha: 0.017108786217161824\n",
            "epoch: 17000, acc: 0.920, loss: 0.176, alpha: 0.017094163197976048\n",
            "epoch: 17100, acc: 0.910, loss: 0.175, alpha: 0.017079565154271174\n",
            "epoch: 17200, acc: 0.917, loss: 0.175, alpha: 0.017064992022116227\n",
            "epoch: 17300, acc: 0.913, loss: 0.172, alpha: 0.01705044373779828\n",
            "epoch: 17400, acc: 0.907, loss: 0.172, alpha: 0.017035920237821446\n",
            "epoch: 17500, acc: 0.907, loss: 0.172, alpha: 0.017021421458906033\n",
            "epoch: 17600, acc: 0.917, loss: 0.174, alpha: 0.017006947337987566\n",
            "epoch: 17700, acc: 0.907, loss: 0.171, alpha: 0.016992497812215908\n",
            "epoch: 17800, acc: 0.913, loss: 0.172, alpha: 0.01697807281895432\n",
            "epoch: 17900, acc: 0.917, loss: 0.173, alpha: 0.01696367229577859\n",
            "epoch: 18000, acc: 0.913, loss: 0.171, alpha: 0.016949296180476105\n",
            "epoch: 18100, acc: 0.923, loss: 0.175, alpha: 0.016934944411044973\n",
            "epoch: 18200, acc: 0.910, loss: 0.171, alpha: 0.016920616925693112\n",
            "epoch: 18300, acc: 0.917, loss: 0.172, alpha: 0.01690631366283739\n",
            "epoch: 18400, acc: 0.913, loss: 0.170, alpha: 0.016892034561102713\n",
            "epoch: 18500, acc: 0.917, loss: 0.171, alpha: 0.016877779559321175\n",
            "epoch: 18600, acc: 0.917, loss: 0.170, alpha: 0.016863548596531167\n",
            "epoch: 18700, acc: 0.917, loss: 0.170, alpha: 0.01684934161197651\n",
            "epoch: 18800, acc: 0.920, loss: 0.170, alpha: 0.0168351585451056\n",
            "epoch: 18900, acc: 0.913, loss: 0.171, alpha: 0.016820999335570526\n",
            "epoch: 19000, acc: 0.913, loss: 0.170, alpha: 0.016806863923226247\n",
            "epoch: 19100, acc: 0.917, loss: 0.170, alpha: 0.01679275224812971\n",
            "epoch: 19200, acc: 0.913, loss: 0.171, alpha: 0.016778664250539012\n",
            "epoch: 19300, acc: 0.917, loss: 0.170, alpha: 0.016764599870912583\n",
            "epoch: 19400, acc: 0.917, loss: 0.169, alpha: 0.01675055904990829\n",
            "epoch: 19500, acc: 0.917, loss: 0.170, alpha: 0.016736541728382664\n",
            "epoch: 19600, acc: 0.910, loss: 0.174, alpha: 0.016722547847390027\n",
            "epoch: 19700, acc: 0.917, loss: 0.170, alpha: 0.01670857734818169\n",
            "epoch: 19800, acc: 0.917, loss: 0.169, alpha: 0.01669463017220511\n",
            "epoch: 19900, acc: 0.917, loss: 0.169, alpha: 0.016680706261103097\n",
            "epoch: 20000, acc: 0.917, loss: 0.169, alpha: 0.01666680555671297\n"
          ]
        }
      ]
    },
    {
      "cell_type": "code",
      "source": [
        "X_test, y_test = spiral_data(samples=100, classes=3)\n",
        "dense1.forward(X_test)\n",
        "activation1.forward(dense1.output)\n",
        "dense2.forward(activation1.output)\n",
        "loss = loss_activation.forward(dense2.output, y_test)\n",
        "predictions = np.argmax(loss_activation.output, axis=1)\n",
        "if len(y_test.shape) == 2:\n",
        " y_test = np.argmax(y_test, axis=1)\n",
        "accuracy = np.mean(predictions == y_test)\n",
        "print(f'validation, acc: {accuracy:.3f}, loss: {loss:.3f}')"
      ],
      "metadata": {
        "colab": {
          "base_uri": "https://localhost:8080/"
        },
        "id": "76EYwynHZa1a",
        "outputId": "7ea31294-5351-491b-9bba-d951cfe29db1"
      },
      "execution_count": null,
      "outputs": [
        {
          "output_type": "stream",
          "name": "stdout",
          "text": [
            "validation, acc: 0.827, loss: 0.876\n"
          ]
        }
      ]
    },
    {
      "cell_type": "markdown",
      "source": [
        "# Final on 1000 Data points"
      ],
      "metadata": {
        "id": "3c_KQJJBsPAB"
      }
    },
    {
      "cell_type": "code",
      "source": [
        "import numpy as np\n",
        "import nnfs\n",
        "from nnfs.datasets import spiral_data\n",
        "nnfs.init()"
      ],
      "metadata": {
        "id": "nukL_wsssQqg"
      },
      "execution_count": null,
      "outputs": []
    },
    {
      "cell_type": "code",
      "source": [
        "import matplotlib.pyplot as plt\n",
        "X, y = spiral_data(samples=1000, classes=3)\n",
        "plt.scatter(X[:, 0], X[:, 1], c=y, cmap='brg')\n",
        "plt.show()"
      ],
      "metadata": {
        "colab": {
          "base_uri": "https://localhost:8080/",
          "height": 430
        },
        "id": "3D4d088wsSsB",
        "outputId": "2dcf385d-e8ec-4d32-d140-e1e667ac116d"
      },
      "execution_count": null,
      "outputs": [
        {
          "output_type": "display_data",
          "data": {
            "text/plain": [
              "<Figure size 640x480 with 1 Axes>"
            ],
            "image/png": "[encoded data removed]"
          },
          "metadata": {}
        }
      ]
    },
    {
      "cell_type": "code",
      "source": [
        "class Layer_Dense:\n",
        "    def __init__(self, n_inputs, n_neurons, weight_regularizer_l1=0, weight_regularizer_l2=0, bias_regularizer_l1=0, bias_regularizer_l2=0):\n",
        "\n",
        "        self.weights = 0.01 * np.random.randn(n_inputs, n_neurons)\n",
        "        self.biases = np.zeros((1, n_neurons))\n",
        "\n",
        "        #Adding regulization\n",
        "        self.weight_regularizer_l1 = weight_regularizer_l1\n",
        "        self.weight_regularizer_l2 = weight_regularizer_l2\n",
        "        self.bias_regularizer_l1 = bias_regularizer_l1\n",
        "        self.bias_regularizer_l2 = bias_regularizer_l2\n",
        "\n",
        "    def forward(self, inputs):\n",
        "        self.inputs = inputs\n",
        "        self.output = np.dot(inputs, self.weights) + self.biases\n",
        "\n",
        "    def backward(self, dvalues):\n",
        "        self.dweights = np.dot(self.inputs.T, dvalues)\n",
        "        self.dbiases = np.sum(dvalues, axis=0, keepdims=True)\n",
        "\n",
        "        # Gradients on regularization\n",
        "        # L1\n",
        "        if self.weight_regularizer_l1 > 0:\n",
        "            dL1 = np.ones_like(self.weights)\n",
        "            dL1[self.weights < 0] = -1\n",
        "            self.dweights += self.weight_regularizer_l1*dL1\n",
        "        if self.bias_regularizer_l1 > 0:\n",
        "            dL1 = np.ones_like(self.biases)\n",
        "            dL1[self.biases < 0] = -1\n",
        "            self.dbiases += self.bias_regularizer_l1*dL1\n",
        "\n",
        "        # L2\n",
        "        if self.weight_regularizer_l2 > 0:\n",
        "            self.dweights += 2*self.weight_regularizer_l2*self.weights\n",
        "        if self.bias_regularizer_l2 > 0:\n",
        "            self.dbiases += 2*self.bias_regularizer_l2*self.biases\n",
        "\n",
        "\n",
        "\n",
        "        self.dinputs = np.dot(dvalues, self.weights.T)\n"
      ],
      "metadata": {
        "id": "gj7kMj-4scP_"
      },
      "execution_count": null,
      "outputs": []
    },
    {
      "cell_type": "code",
      "source": [
        "class Activation_ReLU:\n",
        "    def forward(self, inputs):\n",
        "        self.inputs = inputs\n",
        "        self.output = np.maximum(0, inputs)\n",
        "\n",
        "    def backward(self, dvalues):\n",
        "        self.dinputs = dvalues.copy() #so that original don't get modified\n",
        "        self.dinputs[self.inputs <= 0] = 0 # equals zero if input(z) <= 0 else dL/dz because RELU returns input as it is if > 0\n"
      ],
      "metadata": {
        "id": "3-NpkRsws9Jj"
      },
      "execution_count": null,
      "outputs": []
    },
    {
      "cell_type": "code",
      "source": [
        "class Activation_SoftMax:\n",
        "  def forward(self, input):\n",
        "    exp_values=np.exp(input - np.max(input, axis=1, keepdims=True))\n",
        "    norm_values=exp_values/np.sum(exp_values, axis=1, keepdims=True)\n",
        "    self.output=norm_values"
      ],
      "metadata": {
        "id": "DVK7RZjxtFb4"
      },
      "execution_count": null,
      "outputs": []
    },
    {
      "cell_type": "code",
      "source": [
        "class Loss:\n",
        "  def regularization_loss(self, layer):\n",
        "        regularization_loss = 0\n",
        "\n",
        "        # L1\n",
        "        if layer.weight_regularizer_l1 > 0:\n",
        "            regularization_loss += layer.weight_regularizer_l1*np.sum(np.abs(layer.weights))\n",
        "        if layer.bias_regularizer_l1 > 0:\n",
        "            regularization_loss += layer.bias_regularizer_l1*np.sum(np.abs(layer.biases))\n",
        "\n",
        "        # L2\n",
        "        if layer.weight_regularizer_l2 > 0:\n",
        "            regularization_loss += layer.weight_regularizer_l2*np.sum(layer.weights*layer.weights)\n",
        "        if layer.bias_regularizer_l2 > 0:\n",
        "            regularization_loss += layer.bias_regularizer_l2*np.sum(layer.biases*layer.biases)\n",
        "\n",
        "        return regularization_loss\n",
        "\n",
        "  def calculate(self, output, y):\n",
        "    sample_losses = self.forward(output, y) #function which gives loss (categorical cross entropy), -log(y_confi)\n",
        "    data_loss =  np.mean(sample_losses)\n",
        "    return data_loss\n",
        "\n",
        "\n",
        "#-------------------------------------------------- LCCE --------------------------------------------------\n",
        "\n",
        "class Loss_CategoricalCrossEntropy(Loss):\n",
        "  def forward(self, y_pred, y_true):\n",
        "    samples = len(y_pred)\n",
        "    y_pred_clipped = np.clip(y_pred, 1e-7, 1-1e-7)\n",
        "\n",
        "    if len(y_true.shape) == 1:\n",
        "      # [0, 1, 1]      if given indexes\n",
        "      correct_confidences = y_pred_clipped[range(samples), y_true]\n",
        "    elif len(y_true.shape) == 2:\n",
        "      # [[1,0,0],[0,1,0],[0,1,0]]    if given hot one encoded matrix\n",
        "      correct_confidences = np.sum(y_pred_clipped*y_true, axis=1)\n",
        "\n",
        "    negative_log_likelihoods = -np.log(correct_confidences)\n",
        "    return negative_log_likelihoods\n",
        "\n",
        "\n",
        "    def backward(self, dvalues, y_true):\n",
        "        samples = len(dvalues)\n",
        "        labels = len(dvalues[0])\n",
        "\n",
        "\n",
        "        if len(y_true.shape) == 1:\n",
        "            y_true = np.eye(labels)[y_true] # hot one encoding\n",
        "\n",
        "        self.dinputs = -y_true / dvalues\n",
        "        self.dinputs = self.dinputs/samples"
      ],
      "metadata": {
        "id": "4HaE2jlytQf9"
      },
      "execution_count": null,
      "outputs": []
    },
    {
      "cell_type": "code",
      "source": [
        "class Activation_Softmax_Loss_CategoricalCrossentropy:\n",
        "    def __init__(self):\n",
        "        self.activation = Activation_SoftMax()\n",
        "        self.loss = Loss_CategoricalCrossEntropy()\n",
        "\n",
        "    def forward(self, inputs, y_true):\n",
        "        self.activation.forward(inputs)\n",
        "        self.output = self.activation.output # gives output\n",
        "        return self.loss.calculate(self.output, y_true) # already explained in Activation_Softmax, gives LOSS\n",
        "\n",
        "    def backward(self, y_pred, y_true):\n",
        "        samples = len(y_pred)\n",
        "        if len(y_true.shape) == 2:\n",
        "            y_true = np.argmax(y_true, axis=1) #converting to 0 based indexing again\n",
        "        self.dinputs = y_pred.copy() # ASSIGINING y_pred to input\n",
        "        self.dinputs[range(samples), y_true] -= 1  # derivative = y_pred - y_true = y_pred - 1 (for correct class)\n",
        "        self.dinputs = self.dinputs/samples  # normalized"
      ],
      "metadata": {
        "id": "4PQ-cjiUt02w"
      },
      "execution_count": null,
      "outputs": []
    },
    {
      "cell_type": "code",
      "source": [
        "import numpy as np\n",
        "\n",
        "class Optimizer_Adam:\n",
        "    def __init__(self, learning_rate=0.001, decay=0., epsilon=1e-7, beta_1=0.9, beta_2=0.999):\n",
        "        self.learning_rate = learning_rate\n",
        "        self.current_learning_rate = learning_rate\n",
        "        self.decay = decay\n",
        "        self.iterations = 0\n",
        "        self.epsilon = epsilon\n",
        "        self.beta_1 = beta_1 #For momentum\n",
        "        self.beta_2 = beta_2 #For cache term\n",
        "\n",
        "    def pre_update_params(self):\n",
        "        if self.decay:\n",
        "            self.current_learning_rate = self.learning_rate * (1./(1.+self.decay * self.iterations))\n",
        "\n",
        "    def update_params(self, layer):\n",
        "        if not hasattr(layer, 'weight_cache'):\n",
        "            layer.weight_momentums = np.zeros_like(layer.weights)\n",
        "            layer.weight_cache = np.zeros_like(layer.weights)\n",
        "            layer.bias_momentums = np.zeros_like(layer.biases)\n",
        "            layer.bias_cache = np.zeros_like(layer.biases)\n",
        "\n",
        "\n",
        "        layer.weight_momentums = self.beta_1 * layer.weight_momentums + (1 - self.beta_1) * layer.dweights\n",
        "        layer.bias_momentums = self.beta_1 * layer.bias_momentums + (1 - self.beta_1) * layer.dbiases\n",
        "\n",
        "        weight_momentums_corrected = layer.weight_momentums / (1 - self.beta_1 ** (self.iterations + 1))\n",
        "        bias_momentums_corrected = layer.bias_momentums / (1 - self.beta_1 ** (self.iterations + 1))\n",
        "\n",
        "        layer.weight_cache = self.beta_2 * layer.weight_cache + (1 - self.beta_2) * layer.dweights**2\n",
        "        layer.bias_cache = self.beta_2 * layer.bias_cache + (1 - self.beta_2) * layer.dbiases**2\n",
        "\n",
        "        weight_cache_corrected = layer.weight_cache / (1 - self.beta_2 ** (self.iterations + 1))\n",
        "        bias_cache_corrected = layer.bias_cache / (1 - self.beta_2 ** (self.iterations + 1))\n",
        "\n",
        "        layer.weights += -self.current_learning_rate * weight_momentums_corrected / (np.sqrt(weight_cache_corrected) + self.epsilon)\n",
        "        layer.biases += -self.current_learning_rate * bias_momentums_corrected / (np.sqrt(bias_cache_corrected) + self.epsilon)\n",
        "\n",
        "    def post_update_params(self):\n",
        "        self.iterations += 1\n"
      ],
      "metadata": {
        "id": "Nbu39tA2t8um"
      },
      "execution_count": null,
      "outputs": []
    },
    {
      "cell_type": "code",
      "source": [
        "X, y = spiral_data(samples=1000, classes=3)\n",
        "\n",
        "dense1 = Layer_Dense(2, 64, weight_regularizer_l2=5e-4, bias_regularizer_l2=5e-4)\n",
        "activation1 = Activation_ReLU()\n",
        "dense2 = Layer_Dense(64, 3)\n",
        "\n",
        "loss_activation = Activation_Softmax_Loss_CategoricalCrossentropy()\n",
        "\n",
        "optimizer = Optimizer_Adam(learning_rate=0.05, decay=5e-5)\n",
        "\n",
        "\n",
        "for epoch in range(10001):\n",
        "    dense1.forward(X)\n",
        "    activation1.forward(dense1.output)\n",
        "    dense2.forward(activation1.output)\n",
        "    data_loss = loss_activation.forward(dense2.output, y)\n",
        "\n",
        "\n",
        "    regularization_loss = loss_activation.loss.regularization_loss(dense1) + loss_activation.loss.regularization_loss(dense2)\n",
        "\n",
        "    # total loss\n",
        "    loss = data_loss + regularization_loss\n",
        "\n",
        "    predictions = np.argmax(loss_activation.output, axis=1)\n",
        "    if len(y.shape) == 2:\n",
        "        y = np.argmax(y, axis=1)\n",
        "    accuracy = np.mean(predictions == y)\n",
        "\n",
        "    if not epoch % 1000:\n",
        "        print(f'epoch: {epoch}, acc: {accuracy:.3f}, loss: {loss:.3f} (data_loss: {data_loss:.3f}, reg_loss: {regularization_loss:.3f}), lr: {optimizer.current_learning_rate}')\n",
        "\n",
        "\n",
        "    loss_activation.backward(loss_activation.output, y)\n",
        "    dense2.backward(loss_activation.dinputs)\n",
        "    activation1.backward(dense2.dinputs)\n",
        "    dense1.backward(activation1.dinputs)\n",
        "\n",
        "    #optimizing\n",
        "    optimizer.pre_update_params()\n",
        "    optimizer.update_params(dense1)\n",
        "    optimizer.update_params(dense2)\n",
        "    optimizer.post_update_params()\n",
        "\n",
        "\n"
      ],
      "metadata": {
        "colab": {
          "base_uri": "https://localhost:8080/"
        },
        "id": "XP0Y46hjuCiY",
        "outputId": "07d95377-b354-4222-f243-5260cc0414b0"
      },
      "execution_count": null,
      "outputs": [
        {
          "output_type": "stream",
          "name": "stdout",
          "text": [
            "epoch: 0, acc: 0.328, loss: 1.099 (data_loss: 1.099, reg_loss: 0.000), lr: 0.05\n",
            "epoch: 1000, acc: 0.811, loss: 0.569 (data_loss: 0.479, reg_loss: 0.090), lr: 0.04762131530072861\n",
            "epoch: 2000, acc: 0.890, loss: 0.387 (data_loss: 0.303, reg_loss: 0.083), lr: 0.045456611664166556\n",
            "epoch: 3000, acc: 0.891, loss: 0.355 (data_loss: 0.287, reg_loss: 0.069), lr: 0.043480151310926564\n",
            "epoch: 4000, acc: 0.893, loss: 0.349 (data_loss: 0.281, reg_loss: 0.068), lr: 0.04166840285011875\n",
            "epoch: 5000, acc: 0.894, loss: 0.334 (data_loss: 0.275, reg_loss: 0.058), lr: 0.04000160006400256\n",
            "epoch: 6000, acc: 0.900, loss: 0.315 (data_loss: 0.261, reg_loss: 0.054), lr: 0.03846301780837725\n",
            "epoch: 7000, acc: 0.901, loss: 0.333 (data_loss: 0.278, reg_loss: 0.054), lr: 0.03703840882995667\n",
            "epoch: 8000, acc: 0.899, loss: 0.324 (data_loss: 0.273, reg_loss: 0.050), lr: 0.03571556127004536\n",
            "epoch: 9000, acc: 0.904, loss: 0.311 (data_loss: 0.264, reg_loss: 0.047), lr: 0.034483947722335255\n",
            "epoch: 10000, acc: 0.898, loss: 0.308 (data_loss: 0.261, reg_loss: 0.046), lr: 0.03333444448148271\n"
          ]
        }
      ]
    },
    {
      "cell_type": "code",
      "source": [
        "import numpy as np\n",
        "\n",
        "class Layer_Dropout:\n",
        "    def __init__(self, rate):\n",
        "        self.rate = 1 - rate\n",
        "\n",
        "    def forward(self, inputs):\n",
        "        self.inputs = inputs\n",
        "\n",
        "        self.binary_mask = np.random.binomial(1, self.rate, size=inputs.shape)/self.rate\n",
        "        self.output = inputs*self.binary_mask\n",
        "\n",
        "    def backward(self, dvalues):\n",
        "        self.dinputs = dvalues*self.binary_mask"
      ],
      "metadata": {
        "id": "PfFfcWsr-GcR"
      },
      "execution_count": null,
      "outputs": []
    },
    {
      "cell_type": "code",
      "source": [
        "X, y = spiral_data(samples=1000, classes=3)\n",
        "dense1 = Layer_Dense(2, 64, weight_regularizer_l2=5e-4, bias_regularizer_l2=5e-4)\n",
        "activation1 = Activation_ReLU()\n",
        "\n",
        "dropout1 = Layer_Dropout(0.1)\n",
        "dense2 = Layer_Dense(64, 3)\n",
        "\n",
        "loss_activation = Activation_Softmax_Loss_CategoricalCrossentropy()\n",
        "\n",
        "optimizer = Optimizer_Adam(learning_rate=0.05, decay=5e-5)\n",
        "\n",
        "for epoch in range(10001):\n",
        "\n",
        "    dense1.forward(X)\n",
        "    activation1.forward(dense1.output)\n",
        "    dropout1.forward(activation1.output)\n",
        "    dense2.forward(dropout1.output)\n",
        "    data_loss = loss_activation.forward(dense2.output, y)\n",
        "\n",
        "    regularization_loss = loss_activation.loss.regularization_loss(dense1) + loss_activation.loss.regularization_loss(dense2)\n",
        "\n",
        "    loss = data_loss + regularization_loss\n",
        "\n",
        "    predictions = np.argmax(loss_activation.output, axis=1)\n",
        "    if len(y.shape) == 2:\n",
        "        y = np.argmax(y, axis=1)\n",
        "    accuracy = np.mean(predictions == y)\n",
        "\n",
        "    if not epoch % 100:\n",
        "        print(f'epoch: {epoch}, acc: {accuracy:.3f}, loss: {loss:.3f} (data_loss: {data_loss:.3f}, reg_loss: {regularization_loss:.3f}), lr: {optimizer.current_learning_rate}')\n",
        "\n",
        "    loss_activation.backward(loss_activation.output, y)\n",
        "    dense2.backward(loss_activation.dinputs)\n",
        "    dropout1.backward(dense2.dinputs)\n",
        "    activation1.backward(dropout1.dinputs)\n",
        "    dense1.backward(activation1.dinputs)\n",
        "\n",
        "    # optimizing\n",
        "    optimizer.pre_update_params()\n",
        "    optimizer.update_params(dense1)\n",
        "    optimizer.update_params(dense2)\n",
        "    optimizer.post_update_params()\n",
        "\n",
        "\n",
        "\n",
        "#testing on validation\n",
        "X_test, y_test = spiral_data(samples=100, classes=3)\n",
        "dense1.forward(X_test)\n",
        "activation1.forward(dense1.output)\n",
        "dense2.forward(activation1.output)\n",
        "loss = loss_activation.forward(dense2.output, y_test)\n",
        "\n",
        "predictions = np.argmax(loss_activation.output, axis=1)\n",
        "if len(y_test.shape) == 2:\n",
        "    y_test = np.argmax(y_test, axis=1)\n",
        "accuracy = np.mean(predictions == y_test)\n",
        "\n",
        "print(f'validation, acc: {accuracy:.3f}, loss: {loss:.3f}')"
      ],
      "metadata": {
        "colab": {
          "base_uri": "https://localhost:8080/"
        },
        "id": "YjwXoR9w-3VE",
        "outputId": "cbe095c1-f71a-46f8-d06b-0c8e36b9a95f"
      },
      "execution_count": null,
      "outputs": [
        {
          "output_type": "stream",
          "name": "stdout",
          "text": [
            "epoch: 0, acc: 0.368, loss: 1.099 (data_loss: 1.099, reg_loss: 0.000), lr: 0.05\n",
            "epoch: 100, acc: 0.570, loss: 0.871 (data_loss: 0.837, reg_loss: 0.034), lr: 0.04975371909050202\n",
            "epoch: 200, acc: 0.631, loss: 0.830 (data_loss: 0.789, reg_loss: 0.041), lr: 0.049507401356502806\n",
            "epoch: 300, acc: 0.642, loss: 0.796 (data_loss: 0.755, reg_loss: 0.041), lr: 0.0492635105177595\n",
            "epoch: 400, acc: 0.642, loss: 0.764 (data_loss: 0.724, reg_loss: 0.040), lr: 0.04902201088288642\n",
            "epoch: 500, acc: 0.665, loss: 0.754 (data_loss: 0.715, reg_loss: 0.039), lr: 0.048782867456949125\n",
            "epoch: 600, acc: 0.666, loss: 0.749 (data_loss: 0.710, reg_loss: 0.038), lr: 0.04854604592455945\n",
            "epoch: 700, acc: 0.683, loss: 0.740 (data_loss: 0.703, reg_loss: 0.037), lr: 0.048311512633460556\n",
            "epoch: 800, acc: 0.668, loss: 0.740 (data_loss: 0.704, reg_loss: 0.037), lr: 0.04807923457858551\n",
            "epoch: 900, acc: 0.683, loss: 0.725 (data_loss: 0.689, reg_loss: 0.036), lr: 0.04784917938657352\n",
            "epoch: 1000, acc: 0.682, loss: 0.726 (data_loss: 0.691, reg_loss: 0.035), lr: 0.04762131530072861\n",
            "epoch: 1100, acc: 0.675, loss: 0.737 (data_loss: 0.703, reg_loss: 0.034), lr: 0.04739561116640599\n",
            "epoch: 1200, acc: 0.678, loss: 0.719 (data_loss: 0.687, reg_loss: 0.033), lr: 0.04717203641681212\n",
            "epoch: 1300, acc: 0.674, loss: 0.725 (data_loss: 0.693, reg_loss: 0.032), lr: 0.04695056105920466\n",
            "epoch: 1400, acc: 0.688, loss: 0.722 (data_loss: 0.690, reg_loss: 0.032), lr: 0.04673115566147951\n",
            "epoch: 1500, acc: 0.688, loss: 0.710 (data_loss: 0.678, reg_loss: 0.031), lr: 0.046513791339132055\n",
            "epoch: 1600, acc: 0.685, loss: 0.723 (data_loss: 0.693, reg_loss: 0.030), lr: 0.04629843974258068\n",
            "epoch: 1700, acc: 0.698, loss: 0.693 (data_loss: 0.663, reg_loss: 0.030), lr: 0.046085073044840774\n",
            "epoch: 1800, acc: 0.707, loss: 0.694 (data_loss: 0.665, reg_loss: 0.030), lr: 0.04587366392953806\n",
            "epoch: 1900, acc: 0.697, loss: 0.697 (data_loss: 0.668, reg_loss: 0.029), lr: 0.04566418557925019\n",
            "epoch: 2000, acc: 0.683, loss: 0.688 (data_loss: 0.660, reg_loss: 0.028), lr: 0.045456611664166556\n",
            "epoch: 2100, acc: 0.694, loss: 0.704 (data_loss: 0.676, reg_loss: 0.028), lr: 0.045250916331055706\n",
            "epoch: 2200, acc: 0.696, loss: 0.713 (data_loss: 0.685, reg_loss: 0.027), lr: 0.0450470741925312\n",
            "epoch: 2300, acc: 0.695, loss: 0.709 (data_loss: 0.681, reg_loss: 0.027), lr: 0.04484506031660612\n",
            "epoch: 2400, acc: 0.709, loss: 0.691 (data_loss: 0.664, reg_loss: 0.027), lr: 0.04464485021652753\n",
            "epoch: 2500, acc: 0.690, loss: 0.710 (data_loss: 0.683, reg_loss: 0.027), lr: 0.044446419840881816\n",
            "epoch: 2600, acc: 0.687, loss: 0.709 (data_loss: 0.682, reg_loss: 0.026), lr: 0.04424974556396301\n",
            "epoch: 2700, acc: 0.695, loss: 0.692 (data_loss: 0.666, reg_loss: 0.026), lr: 0.04405480417639544\n",
            "epoch: 2800, acc: 0.691, loss: 0.706 (data_loss: 0.681, reg_loss: 0.026), lr: 0.04386157287600334\n",
            "epoch: 2900, acc: 0.691, loss: 0.688 (data_loss: 0.662, reg_loss: 0.026), lr: 0.04367002925891961\n",
            "epoch: 3000, acc: 0.687, loss: 0.698 (data_loss: 0.672, reg_loss: 0.026), lr: 0.043480151310926564\n",
            "epoch: 3100, acc: 0.698, loss: 0.691 (data_loss: 0.666, reg_loss: 0.025), lr: 0.04329191739902161\n",
            "epoch: 3200, acc: 0.687, loss: 0.698 (data_loss: 0.672, reg_loss: 0.025), lr: 0.043105306263201\n",
            "epoch: 3300, acc: 0.680, loss: 0.722 (data_loss: 0.697, reg_loss: 0.025), lr: 0.0429202970084553\n",
            "epoch: 3400, acc: 0.683, loss: 0.698 (data_loss: 0.672, reg_loss: 0.025), lr: 0.04273686909696996\n",
            "epoch: 3500, acc: 0.687, loss: 0.703 (data_loss: 0.678, reg_loss: 0.025), lr: 0.04255500234052514\n",
            "epoch: 3600, acc: 0.681, loss: 0.716 (data_loss: 0.691, reg_loss: 0.025), lr: 0.042374676893088686\n",
            "epoch: 3700, acc: 0.703, loss: 0.683 (data_loss: 0.658, reg_loss: 0.025), lr: 0.042195873243596776\n",
            "epoch: 3800, acc: 0.706, loss: 0.669 (data_loss: 0.644, reg_loss: 0.025), lr: 0.04201857220891634\n",
            "epoch: 3900, acc: 0.701, loss: 0.708 (data_loss: 0.683, reg_loss: 0.025), lr: 0.041842754926984395\n",
            "epoch: 4000, acc: 0.708, loss: 0.674 (data_loss: 0.649, reg_loss: 0.025), lr: 0.04166840285011875\n",
            "epoch: 4100, acc: 0.706, loss: 0.688 (data_loss: 0.664, reg_loss: 0.024), lr: 0.041495497738495375\n",
            "epoch: 4200, acc: 0.703, loss: 0.679 (data_loss: 0.655, reg_loss: 0.024), lr: 0.041324021653787346\n",
            "epoch: 4300, acc: 0.702, loss: 0.692 (data_loss: 0.668, reg_loss: 0.024), lr: 0.041153956952961035\n",
            "epoch: 4400, acc: 0.686, loss: 0.682 (data_loss: 0.659, reg_loss: 0.024), lr: 0.040985286282224684\n",
            "epoch: 4500, acc: 0.694, loss: 0.676 (data_loss: 0.653, reg_loss: 0.023), lr: 0.04081799257112535\n",
            "epoch: 4600, acc: 0.693, loss: 0.700 (data_loss: 0.677, reg_loss: 0.023), lr: 0.04065205902678971\n",
            "epoch: 4700, acc: 0.683, loss: 0.696 (data_loss: 0.673, reg_loss: 0.023), lr: 0.04048746912830479\n",
            "epoch: 4800, acc: 0.691, loss: 0.697 (data_loss: 0.675, reg_loss: 0.023), lr: 0.04032420662123473\n",
            "epoch: 4900, acc: 0.695, loss: 0.684 (data_loss: 0.661, reg_loss: 0.023), lr: 0.04016225551226957\n",
            "epoch: 5000, acc: 0.695, loss: 0.682 (data_loss: 0.659, reg_loss: 0.023), lr: 0.04000160006400256\n",
            "epoch: 5100, acc: 0.714, loss: 0.684 (data_loss: 0.661, reg_loss: 0.023), lr: 0.039842224789832265\n",
            "epoch: 5200, acc: 0.707, loss: 0.690 (data_loss: 0.667, reg_loss: 0.023), lr: 0.03968411444898608\n",
            "epoch: 5300, acc: 0.689, loss: 0.687 (data_loss: 0.664, reg_loss: 0.022), lr: 0.03952725404166173\n",
            "epoch: 5400, acc: 0.711, loss: 0.648 (data_loss: 0.625, reg_loss: 0.022), lr: 0.03937162880428363\n",
            "epoch: 5500, acc: 0.699, loss: 0.688 (data_loss: 0.666, reg_loss: 0.022), lr: 0.03921722420487078\n",
            "epoch: 5600, acc: 0.705, loss: 0.700 (data_loss: 0.678, reg_loss: 0.022), lr: 0.03906402593851323\n",
            "epoch: 5700, acc: 0.707, loss: 0.689 (data_loss: 0.667, reg_loss: 0.022), lr: 0.038912019922954205\n",
            "epoch: 5800, acc: 0.695, loss: 0.671 (data_loss: 0.649, reg_loss: 0.022), lr: 0.038761192294274965\n",
            "epoch: 5900, acc: 0.707, loss: 0.694 (data_loss: 0.671, reg_loss: 0.022), lr: 0.038611529402679645\n",
            "epoch: 6000, acc: 0.699, loss: 0.696 (data_loss: 0.674, reg_loss: 0.022), lr: 0.03846301780837725\n",
            "epoch: 6100, acc: 0.706, loss: 0.674 (data_loss: 0.652, reg_loss: 0.022), lr: 0.03831564427755853\n",
            "epoch: 6200, acc: 0.690, loss: 0.676 (data_loss: 0.655, reg_loss: 0.022), lr: 0.03816939577846483\n",
            "epoch: 6300, acc: 0.692, loss: 0.675 (data_loss: 0.653, reg_loss: 0.022), lr: 0.038024259477546674\n",
            "epoch: 6400, acc: 0.710, loss: 0.689 (data_loss: 0.668, reg_loss: 0.022), lr: 0.03788022273570969\n",
            "epoch: 6500, acc: 0.694, loss: 0.671 (data_loss: 0.649, reg_loss: 0.022), lr: 0.03773727310464546\n",
            "epoch: 6600, acc: 0.698, loss: 0.678 (data_loss: 0.656, reg_loss: 0.022), lr: 0.03759539832324524\n",
            "epoch: 6700, acc: 0.702, loss: 0.659 (data_loss: 0.637, reg_loss: 0.022), lr: 0.03745458631409416\n",
            "epoch: 6800, acc: 0.693, loss: 0.685 (data_loss: 0.663, reg_loss: 0.022), lr: 0.03731482518004403\n",
            "epoch: 6900, acc: 0.704, loss: 0.665 (data_loss: 0.643, reg_loss: 0.021), lr: 0.03717610320086248\n",
            "epoch: 7000, acc: 0.693, loss: 0.673 (data_loss: 0.651, reg_loss: 0.021), lr: 0.03703840882995667\n",
            "epoch: 7100, acc: 0.687, loss: 0.683 (data_loss: 0.662, reg_loss: 0.021), lr: 0.036901730691169414\n",
            "epoch: 7200, acc: 0.691, loss: 0.675 (data_loss: 0.654, reg_loss: 0.021), lr: 0.03676605757564617\n",
            "epoch: 7300, acc: 0.708, loss: 0.676 (data_loss: 0.655, reg_loss: 0.021), lr: 0.03663137843877066\n",
            "epoch: 7400, acc: 0.694, loss: 0.666 (data_loss: 0.645, reg_loss: 0.021), lr: 0.03649768239716778\n",
            "epoch: 7500, acc: 0.709, loss: 0.667 (data_loss: 0.646, reg_loss: 0.021), lr: 0.03636495872577185\n",
            "epoch: 7600, acc: 0.709, loss: 0.673 (data_loss: 0.652, reg_loss: 0.021), lr: 0.03623319685495851\n",
            "epoch: 7700, acc: 0.703, loss: 0.669 (data_loss: 0.649, reg_loss: 0.021), lr: 0.03610238636773891\n",
            "epoch: 7800, acc: 0.696, loss: 0.665 (data_loss: 0.644, reg_loss: 0.021), lr: 0.03597251699701428\n",
            "epoch: 7900, acc: 0.700, loss: 0.671 (data_loss: 0.651, reg_loss: 0.020), lr: 0.035843578622889706\n",
            "epoch: 8000, acc: 0.705, loss: 0.673 (data_loss: 0.652, reg_loss: 0.021), lr: 0.03571556127004536\n",
            "epoch: 8100, acc: 0.708, loss: 0.652 (data_loss: 0.631, reg_loss: 0.020), lr: 0.03558845510516389\n",
            "epoch: 8200, acc: 0.700, loss: 0.672 (data_loss: 0.652, reg_loss: 0.021), lr: 0.03546225043441257\n",
            "epoch: 8300, acc: 0.699, loss: 0.675 (data_loss: 0.655, reg_loss: 0.021), lr: 0.035336937700978836\n",
            "epoch: 8400, acc: 0.706, loss: 0.671 (data_loss: 0.651, reg_loss: 0.021), lr: 0.03521250748265784\n",
            "epoch: 8500, acc: 0.705, loss: 0.691 (data_loss: 0.671, reg_loss: 0.020), lr: 0.035088950489490865\n",
            "epoch: 8600, acc: 0.712, loss: 0.664 (data_loss: 0.643, reg_loss: 0.020), lr: 0.0349662575614532\n",
            "epoch: 8700, acc: 0.714, loss: 0.684 (data_loss: 0.664, reg_loss: 0.020), lr: 0.034844419666190465\n",
            "epoch: 8800, acc: 0.709, loss: 0.672 (data_loss: 0.652, reg_loss: 0.020), lr: 0.034723427896801974\n",
            "epoch: 8900, acc: 0.704, loss: 0.669 (data_loss: 0.649, reg_loss: 0.020), lr: 0.03460327346967023\n",
            "epoch: 9000, acc: 0.681, loss: 0.672 (data_loss: 0.652, reg_loss: 0.020), lr: 0.034483947722335255\n",
            "epoch: 9100, acc: 0.690, loss: 0.678 (data_loss: 0.658, reg_loss: 0.020), lr: 0.034365442111412764\n",
            "epoch: 9200, acc: 0.704, loss: 0.672 (data_loss: 0.652, reg_loss: 0.020), lr: 0.03424774821055516\n",
            "epoch: 9300, acc: 0.692, loss: 0.689 (data_loss: 0.670, reg_loss: 0.020), lr: 0.03413085770845422\n",
            "epoch: 9400, acc: 0.699, loss: 0.688 (data_loss: 0.668, reg_loss: 0.020), lr: 0.034014762406884586\n",
            "epoch: 9500, acc: 0.712, loss: 0.665 (data_loss: 0.646, reg_loss: 0.020), lr: 0.03389945421878708\n",
            "epoch: 9600, acc: 0.700, loss: 0.681 (data_loss: 0.662, reg_loss: 0.020), lr: 0.033784925166390756\n",
            "epoch: 9700, acc: 0.713, loss: 0.653 (data_loss: 0.633, reg_loss: 0.020), lr: 0.03367116737937304\n",
            "epoch: 9800, acc: 0.703, loss: 0.658 (data_loss: 0.638, reg_loss: 0.020), lr: 0.033558173093056816\n",
            "epoch: 9900, acc: 0.702, loss: 0.671 (data_loss: 0.651, reg_loss: 0.020), lr: 0.0334459346466437\n",
            "epoch: 10000, acc: 0.696, loss: 0.685 (data_loss: 0.666, reg_loss: 0.020), lr: 0.03333444448148271\n",
            "validation, acc: 0.717, loss: 0.601\n"
          ]
        }
      ]
    },
    {
      "cell_type": "markdown",
      "source": [
        "# INCREASING HIDDEN LAYERS TO 2"
      ],
      "metadata": {
        "id": "ew0XNnBhCVHF"
      }
    },
    {
      "cell_type": "code",
      "source": [
        "X, y = spiral_data(samples=1000, classes=3)\n",
        "\n",
        "dense1 = Layer_Dense(2, 64, weight_regularizer_l2=5e-4, bias_regularizer_l2=5e-4)\n",
        "activation1 = Activation_ReLU()\n",
        "dense2 = Layer_Dense(64, 8, weight_regularizer_l2=5e-4, bias_regularizer_l2=5e-4)\n",
        "activation2 = Activation_ReLU()\n",
        "dense3 = Layer_Dense(8, 3)\n",
        "\n",
        "loss_activation = Activation_Softmax_Loss_CategoricalCrossentropy()\n",
        "\n",
        "optimizer = Optimizer_Adam(learning_rate=0.05, decay=5e-5)\n",
        "\n",
        "\n",
        "for epoch in range(10001):\n",
        "    dense1.forward(X)\n",
        "    activation1.forward(dense1.output)\n",
        "    dense2.forward(activation1.output)\n",
        "    activation2.forward(dense2.output)\n",
        "    dense3.forward(activation2.output)\n",
        "    data_loss = loss_activation.forward(dense3.output, y)\n",
        "\n",
        "\n",
        "    regularization_loss = loss_activation.loss.regularization_loss(dense1) + loss_activation.loss.regularization_loss(dense2)+loss_activation.loss.regularization_loss(dense3)\n",
        "\n",
        "    # total loss\n",
        "    loss = data_loss + regularization_loss\n",
        "\n",
        "    predictions = np.argmax(loss_activation.output, axis=1)\n",
        "    if len(y.shape) == 2:\n",
        "        y = np.argmax(y, axis=1)\n",
        "    accuracy = np.mean(predictions == y)\n",
        "\n",
        "    if not epoch % 1000:\n",
        "      print(f'epoch: {epoch}, acc: {accuracy:.3f}, loss: {loss:.3f} (data_loss: {data_loss:.3f}, reg_loss: {regularization_loss:.3f}), lr: {optimizer.current_learning_rate}')\n",
        "\n",
        "\n",
        "\n",
        "    loss_activation.backward(loss_activation.output, y)\n",
        "    dense3.backward(loss_activation.dinputs)\n",
        "    activation2.backward(dense3.dinputs)\n",
        "    dense2.backward(activation2.dinputs)\n",
        "    activation1.backward(dense2.dinputs)\n",
        "    dense1.backward(activation1.dinputs)\n",
        "\n",
        "    #optimizing\n",
        "    optimizer.pre_update_params()\n",
        "    optimizer.update_params(dense1)\n",
        "    optimizer.update_params(dense2)\n",
        "    optimizer.update_params(dense3)\n",
        "    optimizer.post_update_params()\n",
        "\n",
        "\n",
        "\n"
      ],
      "metadata": {
        "colab": {
          "base_uri": "https://localhost:8080/"
        },
        "id": "EckehYjKw2v4",
        "outputId": "7bf039c4-68d5-4e33-98e7-215934e72e78"
      },
      "execution_count": null,
      "outputs": [
        {
          "output_type": "stream",
          "name": "stdout",
          "text": [
            "epoch: 0, acc: 0.314, loss: 1.099 (data_loss: 1.099, reg_loss: 0.000), lr: 0.05\n",
            "epoch: 1000, acc: 0.915, loss: 0.314 (data_loss: 0.227, reg_loss: 0.087), lr: 0.04762131530072861\n",
            "epoch: 2000, acc: 0.692, loss: 0.863 (data_loss: 0.716, reg_loss: 0.147), lr: 0.045456611664166556\n",
            "epoch: 3000, acc: 0.916, loss: 0.285 (data_loss: 0.216, reg_loss: 0.069), lr: 0.043480151310926564\n",
            "epoch: 4000, acc: 0.923, loss: 0.263 (data_loss: 0.207, reg_loss: 0.056), lr: 0.04166840285011875\n",
            "epoch: 5000, acc: 0.920, loss: 0.252 (data_loss: 0.202, reg_loss: 0.049), lr: 0.04000160006400256\n",
            "epoch: 6000, acc: 0.916, loss: 0.255 (data_loss: 0.211, reg_loss: 0.044), lr: 0.03846301780837725\n",
            "epoch: 7000, acc: 0.910, loss: 0.254 (data_loss: 0.213, reg_loss: 0.041), lr: 0.03703840882995667\n",
            "epoch: 8000, acc: 0.868, loss: 0.428 (data_loss: 0.345, reg_loss: 0.083), lr: 0.03571556127004536\n",
            "epoch: 9000, acc: 0.880, loss: 0.390 (data_loss: 0.325, reg_loss: 0.064), lr: 0.034483947722335255\n",
            "epoch: 10000, acc: 0.909, loss: 0.292 (data_loss: 0.236, reg_loss: 0.056), lr: 0.03333444448148271\n"
          ]
        }
      ]
    },
    {
      "cell_type": "code",
      "source": [
        "X_test, y_test = spiral_data(samples=500, classes=3)\n",
        "dense1.forward(X_test)\n",
        "activation1.forward(dense1.output)\n",
        "dense2.forward(activation1.output)\n",
        "activation2.forward(dense2.output)\n",
        "dense3.forward(activation2.output)\n",
        "loss = loss_activation.forward(dense3.output, y_test)\n",
        "\n",
        "# dense1.forward(X_test)\n",
        "# activation1.forward(dense1.output)\n",
        "# dense2.forward(activation1.output)\n",
        "# loss = loss_activation.forward(dense2.output, y_test)\n",
        "\n",
        "predictions = np.argmax(loss_activation.output, axis=1)\n",
        "if len(y_test.shape) == 2:\n",
        "    y_test = np.argmax(y_test, axis=1)\n",
        "accuracy = np.mean(predictions == y_test)\n",
        "\n",
        "print(f'validation, acc: {accuracy:.3f}, loss: {loss:.3f}')"
      ],
      "metadata": {
        "colab": {
          "base_uri": "https://localhost:8080/"
        },
        "id": "-hNR066fuzst",
        "outputId": "49e2d95c-c909-486d-ff9b-06a36fe894fc"
      },
      "execution_count": null,
      "outputs": [
        {
          "output_type": "stream",
          "name": "stdout",
          "text": [
            "validation, acc: 0.893, loss: 0.277\n"
          ]
        }
      ]
    },
    {
      "cell_type": "code",
      "source": [
        "X, y = spiral_data(samples=1000, classes=3)\n",
        "\n",
        "dense1 = Layer_Dense(2, 64, weight_regularizer_l2=5e-4, bias_regularizer_l2=5e-4)\n",
        "activation1 = Activation_ReLU()\n",
        "dropout1 = Layer_Dropout(0.1)\n",
        "\n",
        "dense2 = Layer_Dense(64, 32, weight_regularizer_l2=5e-4, bias_regularizer_l2=5e-4)\n",
        "activation2 = Activation_ReLU()\n",
        "dropout2 = Layer_Dropout(0.1)\n",
        "\n",
        "dense3 = Layer_Dense(32, 3)\n",
        "\n",
        "\n",
        "loss_activation = Activation_Softmax_Loss_CategoricalCrossentropy()\n",
        "\n",
        "optimizer = Optimizer_Adam(learning_rate=0.05, decay=5e-5)\n",
        "\n",
        "for epoch in range(10001):\n",
        "\n",
        "    dense1.forward(X)\n",
        "    activation1.forward(dense1.output)\n",
        "    dropout1.forward(activation1.output)\n",
        "\n",
        "    dense2.forward(dropout1.output)\n",
        "    activation2.forward(dense2.output)\n",
        "    dropout2.forward(activation2.output)\n",
        "\n",
        "    dense3.forward(dropout2.output)\n",
        "    data_loss = loss_activation.forward(dense3.output, y)\n",
        "\n",
        "    #REGULARIZATION\n",
        "    regularization_loss = (loss_activation.loss.regularization_loss(dense1) + loss_activation.loss.regularization_loss(dense2) + loss_activation.loss.regularization_loss(dense3))\n",
        "\n",
        "    loss = data_loss + regularization_loss\n",
        "\n",
        "    predictions = np.argmax(loss_activation.output, axis=1)\n",
        "    if len(y.shape) == 2:\n",
        "        y = np.argmax(y, axis=1)\n",
        "    accuracy = np.mean(predictions == y)\n",
        "\n",
        "    if not epoch % 100:\n",
        "        print(f'epoch: {epoch}, acc: {accuracy:.3f}, loss: {loss:.3f} (data_loss: {data_loss:.3f}, reg_loss: {regularization_loss:.3f}), lr: {optimizer.current_learning_rate}')\n",
        "\n",
        "\n",
        "    loss_activation.backward(loss_activation.output, y)\n",
        "    dense3.backward(loss_activation.dinputs)\n",
        "\n",
        "    dropout2.backward(dense3.dinputs)\n",
        "    activation2.backward(dropout2.dinputs)\n",
        "    dense2.backward(activation2.dinputs)\n",
        "\n",
        "    dropout1.backward(dense2.dinputs)\n",
        "    activation1.backward(dropout1.dinputs)\n",
        "    dense1.backward(activation1.dinputs)\n",
        "\n",
        "\n",
        "    # optimizing\n",
        "    optimizer.pre_update_params()\n",
        "    optimizer.update_params(dense1)\n",
        "    optimizer.update_params(dense2)\n",
        "    optimizer.update_params(dense3)\n",
        "    optimizer.post_update_params()\n"
      ],
      "metadata": {
        "colab": {
          "base_uri": "https://localhost:8080/"
        },
        "id": "RP93hyKGChSP",
        "outputId": "b1fc5fd7-4496-4815-c8d1-8cd72e6a3b1a"
      },
      "execution_count": null,
      "outputs": [
        {
          "output_type": "stream",
          "name": "stdout",
          "text": [
            "epoch: 0, acc: 0.347, loss: 1.099 (data_loss: 1.099, reg_loss: 0.000), lr: 0.05\n",
            "epoch: 100, acc: 0.808, loss: 0.562 (data_loss: 0.469, reg_loss: 0.093), lr: 0.04975371909050202\n",
            "epoch: 200, acc: 0.839, loss: 0.493 (data_loss: 0.403, reg_loss: 0.090), lr: 0.049507401356502806\n",
            "epoch: 300, acc: 0.849, loss: 0.485 (data_loss: 0.395, reg_loss: 0.090), lr: 0.0492635105177595\n",
            "epoch: 400, acc: 0.861, loss: 0.440 (data_loss: 0.352, reg_loss: 0.087), lr: 0.04902201088288642\n",
            "epoch: 500, acc: 0.869, loss: 0.436 (data_loss: 0.352, reg_loss: 0.084), lr: 0.048782867456949125\n",
            "epoch: 600, acc: 0.862, loss: 0.438 (data_loss: 0.353, reg_loss: 0.085), lr: 0.04854604592455945\n",
            "epoch: 700, acc: 0.864, loss: 0.419 (data_loss: 0.336, reg_loss: 0.082), lr: 0.048311512633460556\n",
            "epoch: 800, acc: 0.874, loss: 0.406 (data_loss: 0.328, reg_loss: 0.078), lr: 0.04807923457858551\n",
            "epoch: 900, acc: 0.870, loss: 0.404 (data_loss: 0.327, reg_loss: 0.078), lr: 0.04784917938657352\n",
            "epoch: 1000, acc: 0.880, loss: 0.393 (data_loss: 0.316, reg_loss: 0.077), lr: 0.04762131530072861\n",
            "epoch: 1100, acc: 0.875, loss: 0.403 (data_loss: 0.326, reg_loss: 0.077), lr: 0.04739561116640599\n",
            "epoch: 1200, acc: 0.871, loss: 0.396 (data_loss: 0.322, reg_loss: 0.074), lr: 0.04717203641681212\n",
            "epoch: 1300, acc: 0.873, loss: 0.402 (data_loss: 0.327, reg_loss: 0.075), lr: 0.04695056105920466\n",
            "epoch: 1400, acc: 0.873, loss: 0.398 (data_loss: 0.325, reg_loss: 0.073), lr: 0.04673115566147951\n",
            "epoch: 1500, acc: 0.866, loss: 0.404 (data_loss: 0.330, reg_loss: 0.074), lr: 0.046513791339132055\n",
            "epoch: 1600, acc: 0.858, loss: 0.420 (data_loss: 0.344, reg_loss: 0.076), lr: 0.04629843974258068\n",
            "epoch: 1700, acc: 0.872, loss: 0.406 (data_loss: 0.334, reg_loss: 0.072), lr: 0.046085073044840774\n",
            "epoch: 1800, acc: 0.868, loss: 0.406 (data_loss: 0.336, reg_loss: 0.070), lr: 0.04587366392953806\n",
            "epoch: 1900, acc: 0.866, loss: 0.390 (data_loss: 0.321, reg_loss: 0.069), lr: 0.04566418557925019\n",
            "epoch: 2000, acc: 0.864, loss: 0.393 (data_loss: 0.323, reg_loss: 0.071), lr: 0.045456611664166556\n",
            "epoch: 2100, acc: 0.875, loss: 0.376 (data_loss: 0.307, reg_loss: 0.069), lr: 0.045250916331055706\n",
            "epoch: 2200, acc: 0.866, loss: 0.396 (data_loss: 0.328, reg_loss: 0.069), lr: 0.0450470741925312\n",
            "epoch: 2300, acc: 0.864, loss: 0.389 (data_loss: 0.320, reg_loss: 0.069), lr: 0.04484506031660612\n",
            "epoch: 2400, acc: 0.881, loss: 0.385 (data_loss: 0.315, reg_loss: 0.070), lr: 0.04464485021652753\n",
            "epoch: 2500, acc: 0.885, loss: 0.374 (data_loss: 0.307, reg_loss: 0.067), lr: 0.044446419840881816\n",
            "epoch: 2600, acc: 0.874, loss: 0.401 (data_loss: 0.334, reg_loss: 0.067), lr: 0.04424974556396301\n",
            "epoch: 2700, acc: 0.874, loss: 0.369 (data_loss: 0.303, reg_loss: 0.066), lr: 0.04405480417639544\n",
            "epoch: 2800, acc: 0.862, loss: 0.410 (data_loss: 0.344, reg_loss: 0.066), lr: 0.04386157287600334\n",
            "epoch: 2900, acc: 0.875, loss: 0.373 (data_loss: 0.310, reg_loss: 0.063), lr: 0.04367002925891961\n",
            "epoch: 3000, acc: 0.874, loss: 0.388 (data_loss: 0.324, reg_loss: 0.064), lr: 0.043480151310926564\n",
            "epoch: 3100, acc: 0.880, loss: 0.362 (data_loss: 0.298, reg_loss: 0.064), lr: 0.04329191739902161\n",
            "epoch: 3200, acc: 0.873, loss: 0.387 (data_loss: 0.322, reg_loss: 0.065), lr: 0.043105306263201\n",
            "epoch: 3300, acc: 0.880, loss: 0.372 (data_loss: 0.309, reg_loss: 0.063), lr: 0.0429202970084553\n",
            "epoch: 3400, acc: 0.868, loss: 0.386 (data_loss: 0.323, reg_loss: 0.063), lr: 0.04273686909696996\n",
            "epoch: 3500, acc: 0.873, loss: 0.379 (data_loss: 0.310, reg_loss: 0.069), lr: 0.04255500234052514\n",
            "epoch: 3600, acc: 0.873, loss: 0.373 (data_loss: 0.311, reg_loss: 0.062), lr: 0.042374676893088686\n",
            "epoch: 3700, acc: 0.879, loss: 0.381 (data_loss: 0.316, reg_loss: 0.065), lr: 0.042195873243596776\n",
            "epoch: 3800, acc: 0.880, loss: 0.376 (data_loss: 0.309, reg_loss: 0.067), lr: 0.04201857220891634\n",
            "epoch: 3900, acc: 0.882, loss: 0.357 (data_loss: 0.292, reg_loss: 0.065), lr: 0.041842754926984395\n",
            "epoch: 4000, acc: 0.887, loss: 0.349 (data_loss: 0.287, reg_loss: 0.062), lr: 0.04166840285011875\n",
            "epoch: 4100, acc: 0.872, loss: 0.388 (data_loss: 0.327, reg_loss: 0.061), lr: 0.041495497738495375\n",
            "epoch: 4200, acc: 0.885, loss: 0.360 (data_loss: 0.300, reg_loss: 0.061), lr: 0.041324021653787346\n",
            "epoch: 4300, acc: 0.875, loss: 0.379 (data_loss: 0.317, reg_loss: 0.062), lr: 0.041153956952961035\n",
            "epoch: 4400, acc: 0.874, loss: 0.381 (data_loss: 0.322, reg_loss: 0.060), lr: 0.040985286282224684\n",
            "epoch: 4500, acc: 0.871, loss: 0.394 (data_loss: 0.333, reg_loss: 0.061), lr: 0.04081799257112535\n",
            "epoch: 4600, acc: 0.876, loss: 0.354 (data_loss: 0.295, reg_loss: 0.059), lr: 0.04065205902678971\n",
            "epoch: 4700, acc: 0.882, loss: 0.375 (data_loss: 0.310, reg_loss: 0.065), lr: 0.04048746912830479\n",
            "epoch: 4800, acc: 0.876, loss: 0.363 (data_loss: 0.302, reg_loss: 0.061), lr: 0.04032420662123473\n",
            "epoch: 4900, acc: 0.881, loss: 0.352 (data_loss: 0.293, reg_loss: 0.059), lr: 0.04016225551226957\n",
            "epoch: 5000, acc: 0.884, loss: 0.364 (data_loss: 0.303, reg_loss: 0.062), lr: 0.04000160006400256\n",
            "epoch: 5100, acc: 0.871, loss: 0.372 (data_loss: 0.312, reg_loss: 0.060), lr: 0.039842224789832265\n",
            "epoch: 5200, acc: 0.881, loss: 0.359 (data_loss: 0.299, reg_loss: 0.060), lr: 0.03968411444898608\n",
            "epoch: 5300, acc: 0.888, loss: 0.352 (data_loss: 0.291, reg_loss: 0.061), lr: 0.03952725404166173\n",
            "epoch: 5400, acc: 0.871, loss: 0.368 (data_loss: 0.310, reg_loss: 0.058), lr: 0.03937162880428363\n",
            "epoch: 5500, acc: 0.892, loss: 0.342 (data_loss: 0.282, reg_loss: 0.060), lr: 0.03921722420487078\n",
            "epoch: 5600, acc: 0.870, loss: 0.377 (data_loss: 0.319, reg_loss: 0.059), lr: 0.03906402593851323\n",
            "epoch: 5700, acc: 0.877, loss: 0.372 (data_loss: 0.313, reg_loss: 0.059), lr: 0.038912019922954205\n",
            "epoch: 5800, acc: 0.882, loss: 0.352 (data_loss: 0.295, reg_loss: 0.058), lr: 0.038761192294274965\n",
            "epoch: 5900, acc: 0.872, loss: 0.366 (data_loss: 0.307, reg_loss: 0.059), lr: 0.038611529402679645\n",
            "epoch: 6000, acc: 0.860, loss: 0.408 (data_loss: 0.348, reg_loss: 0.060), lr: 0.03846301780837725\n",
            "epoch: 6100, acc: 0.877, loss: 0.362 (data_loss: 0.302, reg_loss: 0.059), lr: 0.03831564427755853\n",
            "epoch: 6200, acc: 0.880, loss: 0.342 (data_loss: 0.285, reg_loss: 0.056), lr: 0.03816939577846483\n",
            "epoch: 6300, acc: 0.890, loss: 0.338 (data_loss: 0.280, reg_loss: 0.058), lr: 0.038024259477546674\n",
            "epoch: 6400, acc: 0.880, loss: 0.345 (data_loss: 0.286, reg_loss: 0.059), lr: 0.03788022273570969\n",
            "epoch: 6500, acc: 0.877, loss: 0.367 (data_loss: 0.302, reg_loss: 0.065), lr: 0.03773727310464546\n",
            "epoch: 6600, acc: 0.881, loss: 0.343 (data_loss: 0.287, reg_loss: 0.056), lr: 0.03759539832324524\n",
            "epoch: 6700, acc: 0.883, loss: 0.363 (data_loss: 0.307, reg_loss: 0.056), lr: 0.03745458631409416\n",
            "epoch: 6800, acc: 0.891, loss: 0.339 (data_loss: 0.282, reg_loss: 0.057), lr: 0.03731482518004403\n",
            "epoch: 6900, acc: 0.873, loss: 0.362 (data_loss: 0.306, reg_loss: 0.056), lr: 0.03717610320086248\n",
            "epoch: 7000, acc: 0.883, loss: 0.346 (data_loss: 0.283, reg_loss: 0.063), lr: 0.03703840882995667\n",
            "epoch: 7100, acc: 0.875, loss: 0.358 (data_loss: 0.303, reg_loss: 0.056), lr: 0.036901730691169414\n",
            "epoch: 7200, acc: 0.877, loss: 0.357 (data_loss: 0.301, reg_loss: 0.056), lr: 0.03676605757564617\n",
            "epoch: 7300, acc: 0.883, loss: 0.345 (data_loss: 0.289, reg_loss: 0.056), lr: 0.03663137843877066\n",
            "epoch: 7400, acc: 0.882, loss: 0.356 (data_loss: 0.299, reg_loss: 0.057), lr: 0.03649768239716778\n",
            "epoch: 7500, acc: 0.872, loss: 0.368 (data_loss: 0.310, reg_loss: 0.058), lr: 0.03636495872577185\n",
            "epoch: 7600, acc: 0.884, loss: 0.344 (data_loss: 0.288, reg_loss: 0.057), lr: 0.03623319685495851\n",
            "epoch: 7700, acc: 0.878, loss: 0.350 (data_loss: 0.295, reg_loss: 0.055), lr: 0.03610238636773891\n",
            "epoch: 7800, acc: 0.884, loss: 0.339 (data_loss: 0.282, reg_loss: 0.057), lr: 0.03597251699701428\n",
            "epoch: 7900, acc: 0.885, loss: 0.343 (data_loss: 0.289, reg_loss: 0.055), lr: 0.035843578622889706\n",
            "epoch: 8000, acc: 0.877, loss: 0.350 (data_loss: 0.294, reg_loss: 0.056), lr: 0.03571556127004536\n",
            "epoch: 8100, acc: 0.878, loss: 0.353 (data_loss: 0.295, reg_loss: 0.058), lr: 0.03558845510516389\n",
            "epoch: 8200, acc: 0.883, loss: 0.350 (data_loss: 0.295, reg_loss: 0.056), lr: 0.03546225043441257\n",
            "epoch: 8300, acc: 0.886, loss: 0.341 (data_loss: 0.286, reg_loss: 0.054), lr: 0.035336937700978836\n",
            "epoch: 8400, acc: 0.881, loss: 0.366 (data_loss: 0.311, reg_loss: 0.055), lr: 0.03521250748265784\n",
            "epoch: 8500, acc: 0.888, loss: 0.344 (data_loss: 0.289, reg_loss: 0.056), lr: 0.035088950489490865\n",
            "epoch: 8600, acc: 0.890, loss: 0.334 (data_loss: 0.280, reg_loss: 0.054), lr: 0.0349662575614532\n",
            "epoch: 8700, acc: 0.888, loss: 0.344 (data_loss: 0.288, reg_loss: 0.057), lr: 0.034844419666190465\n",
            "epoch: 8800, acc: 0.885, loss: 0.337 (data_loss: 0.283, reg_loss: 0.054), lr: 0.034723427896801974\n",
            "epoch: 8900, acc: 0.879, loss: 0.345 (data_loss: 0.288, reg_loss: 0.057), lr: 0.03460327346967023\n",
            "epoch: 9000, acc: 0.881, loss: 0.347 (data_loss: 0.293, reg_loss: 0.053), lr: 0.034483947722335255\n",
            "epoch: 9100, acc: 0.846, loss: 0.457 (data_loss: 0.399, reg_loss: 0.058), lr: 0.034365442111412764\n",
            "epoch: 9200, acc: 0.889, loss: 0.365 (data_loss: 0.307, reg_loss: 0.058), lr: 0.03424774821055516\n",
            "epoch: 9300, acc: 0.889, loss: 0.339 (data_loss: 0.284, reg_loss: 0.056), lr: 0.03413085770845422\n",
            "epoch: 9400, acc: 0.890, loss: 0.334 (data_loss: 0.279, reg_loss: 0.054), lr: 0.034014762406884586\n",
            "epoch: 9500, acc: 0.892, loss: 0.330 (data_loss: 0.277, reg_loss: 0.053), lr: 0.03389945421878708\n",
            "epoch: 9600, acc: 0.881, loss: 0.344 (data_loss: 0.290, reg_loss: 0.055), lr: 0.033784925166390756\n",
            "epoch: 9700, acc: 0.878, loss: 0.348 (data_loss: 0.294, reg_loss: 0.054), lr: 0.03367116737937304\n",
            "epoch: 9800, acc: 0.889, loss: 0.333 (data_loss: 0.278, reg_loss: 0.055), lr: 0.033558173093056816\n",
            "epoch: 9900, acc: 0.884, loss: 0.334 (data_loss: 0.281, reg_loss: 0.053), lr: 0.0334459346466437\n",
            "epoch: 10000, acc: 0.890, loss: 0.325 (data_loss: 0.271, reg_loss: 0.054), lr: 0.03333444448148271\n"
          ]
        }
      ]
    },
    {
      "cell_type": "markdown",
      "source": [
        "# validation"
      ],
      "metadata": {
        "id": "kLZI9Q6MEXl7"
      }
    },
    {
      "cell_type": "code",
      "source": [
        "X_test, y_test = spiral_data(samples=100, classes=3)\n",
        "\n",
        "dense1.forward(X_test)\n",
        "activation1.forward(dense1.output)\n",
        "dropout1.forward(activation1.output)\n",
        "\n",
        "dense2.forward(dropout1.output)\n",
        "activation2.forward(dense2.output)\n",
        "dropout2.forward(activation2.output)\n",
        "\n",
        "dense3.forward(dropout2.output)\n",
        "\n",
        "loss = loss_activation.forward(dense3.output, y_test)\n",
        "\n",
        "predictions = np.argmax(loss_activation.output, axis=1)\n",
        "if len(y_test.shape) == 2:\n",
        "    y_test = np.argmax(y_test, axis=1)\n",
        "accuracy = np.mean(predictions == y_test)\n",
        "\n",
        "print(f'validation, acc: {accuracy:.3f}, loss: {loss:.3f}')\n"
      ],
      "metadata": {
        "colab": {
          "base_uri": "https://localhost:8080/"
        },
        "id": "DXCjvwNPDKMM",
        "outputId": "61119ac2-d450-4725-d31d-a8d68dbcaeb6"
      },
      "execution_count": null,
      "outputs": [
        {
          "output_type": "stream",
          "name": "stdout",
          "text": [
            "validation, acc: 0.900, loss: 0.325\n"
          ]
        }
      ]
    },
    {
      "cell_type": "markdown",
      "source": [
        "## Accuracy of 0.9"
      ],
      "metadata": {
        "id": "wrzIA6kSEe8C"
      }
    },
    {
      "cell_type": "code",
      "source": [
        "class Layer_BatchNormalization:\n",
        "    def __init__(self, n_features, momentum=0.9, epsilon=1e-5):\n",
        "        self.gamma = np.ones((1, n_features))\n",
        "        self.beta = np.zeros((1, n_features))\n",
        "        self.momentum = momentum\n",
        "        self.epsilon = epsilon\n",
        "\n",
        "        self.running_mean = np.zeros((1, n_features))\n",
        "        self.running_var = np.ones((1, n_features))\n",
        "\n",
        "    def forward(self, inputs, training=True):\n",
        "        self.inputs = inputs\n",
        "\n",
        "        if training:\n",
        "            self.mean = np.mean(inputs, axis=0, keepdims=True)\n",
        "            self.var = np.var(inputs, axis=0, keepdims=True)\n",
        "            self.std = np.sqrt(self.var + self.epsilon)\n",
        "\n",
        "            self.normalized = (inputs - self.mean)/self.std\n",
        "            self.output = self.gamma*self.normalized + self.beta\n",
        "\n",
        "            self.running_mean = self.momentum*self.running_mean + (1 - self.momentum)*self.mean\n",
        "            self.running_var = self.momentum*self.running_var + (1 - self.momentum)*self.var\n",
        "        else:\n",
        "            self.normalized = (inputs - self.running_mean)/np.sqrt(self.running_var + self.epsilon)\n",
        "            self.output = self.gamma*self.normalized + self.beta\n",
        "\n",
        "    def backward(self, dvalues):\n",
        "        m = dvalues.shape[0]\n",
        "\n",
        "        self.dgamma = np.sum(dvalues*self.normalized , axis=0, keepdims=True)\n",
        "        self.dbeta = np.sum(dvalues, axis=0, keepdims=True)\n",
        "\n",
        "        dnormalized = dvalues*self.gamma\n",
        "        dvar = np.sum(dnormalized*(self.inputs - self.mean)*-0.5*self.std**-3 , axis=0, keepdims=True)\n",
        "        dmean = np.sum(dnormalized* -1/self.std, axis=0, keepdims=True) + dvar*np.mean(-2*(self.inputs - self.mean) , axis=0, keepdims=True)\n",
        "\n",
        "        self.dinputs = dnormalized/self.std + dvar*2*(self.inputs - self.mean)/m + dmean/m\n",
        "\n",
        "    def update_params(self, optimizer):\n",
        "        self.gamma += -optimizer.current_learning_rate * self.dgamma\n",
        "        self.beta += -optimizer.current_learning_rate * self.dbeta\n"
      ],
      "metadata": {
        "id": "dT6KBdsPFfHD"
      },
      "execution_count": null,
      "outputs": []
    },
    {
      "cell_type": "code",
      "source": [
        "\n",
        "import numpy as np\n",
        "\n",
        "class Optimizer_Adam_BN:\n",
        "    def __init__(self, learning_rate=0.001, decay=0., epsilon=1e-7, beta_1=0.9, beta_2=0.999):\n",
        "        self.learning_rate = learning_rate\n",
        "        self.current_learning_rate = learning_rate\n",
        "        self.decay = decay\n",
        "        self.iterations = 0\n",
        "        self.epsilon = epsilon\n",
        "        self.beta_1 = beta_1 #For momentum\n",
        "        self.beta_2 = beta_2 #For cache term\n",
        "\n",
        "    def pre_update_params(self):\n",
        "        if self.decay:\n",
        "            self.current_learning_rate = self.learning_rate*(1./(1.+self.decay*self.iterations))\n",
        "\n",
        "    def update_params(self, layer):\n",
        "    # Update weights and biases if they exist (Dense layer)\n",
        "      if hasattr(layer, 'weights'):\n",
        "          if not hasattr(layer, 'weight_cache'):\n",
        "              layer.weight_momentums = np.zeros_like(layer.weights)\n",
        "              layer.weight_cache = np.zeros_like(layer.weights)\n",
        "              layer.bias_momentums = np.zeros_like(layer.biases)\n",
        "              layer.bias_cache = np.zeros_like(layer.biases)\n",
        "\n",
        "          layer.weight_momentums = self.beta_1*layer.weight_momentums + (1-self.beta_1)*layer.dweights\n",
        "          weight_momentums_corrected = layer.weight_momentums/(1 - self.beta_1**(self.iterations + 1))\n",
        "\n",
        "          layer.weight_cache = self.beta_2 * layer.weight_cache + (1-self.beta_2)*layer.dweights**2\n",
        "          weight_cache_corrected = layer.weight_cache/(1 - self.beta_2**(self.iterations + 1))\n",
        "\n",
        "          layer.weights += -self.current_learning_rate * weight_momentums_corrected/(np.sqrt(weight_cache_corrected) + self.epsilon)\n",
        "\n",
        "          layer.bias_momentums = self.beta_1*layer.bias_momentums + (1 - self.beta_1)*layer.dbiases\n",
        "          bias_momentums_corrected = layer.bias_momentums/(1 - self.beta_1**(self.iterations + 1))\n",
        "\n",
        "          layer.bias_cache = self.beta_2*layer.bias_cache + (1 - self.beta_2)*layer.dbiases**2\n",
        "          bias_cache_corrected = layer.bias_cache/(1 - self.beta_2**(self.iterations + 1))\n",
        "\n",
        "          layer.biases += -self.current_learning_rate * bias_momentums_corrected/(np.sqrt(bias_cache_corrected) + self.epsilon)\n",
        "\n",
        "      if hasattr(layer, 'gamma'):\n",
        "          if not hasattr(layer, 'gamma_momentums'):\n",
        "              layer.gamma_momentums = np.zeros_like(layer.gamma)\n",
        "              layer.gamma_cache = np.zeros_like(layer.gamma)\n",
        "              layer.beta_momentums = np.zeros_like(layer.beta)\n",
        "              layer.beta_cache = np.zeros_like(layer.beta)\n",
        "\n",
        "          layer.gamma_momentums = self.beta_1*layer.gamma_momentums + (1-self.beta_1)*layer.dgamma\n",
        "          gamma_momentums_corrected = layer.gamma_momentums/(1 - self.beta_1**(self.iterations + 1))\n",
        "\n",
        "          layer.gamma_cache = self.beta_2*layer.gamma_cache + (1 - self.beta_2)*layer.dgamma**2\n",
        "          gamma_cache_corrected = layer.gamma_cache/(1 - self.beta_2**(self.iterations + 1))\n",
        "\n",
        "          layer.gamma += -self.current_learning_rate * gamma_momentums_corrected/(np.sqrt(gamma_cache_corrected) + self.epsilon)\n",
        "\n",
        "          layer.beta_momentums = self.beta_1*layer.beta_momentums + (1 - self.beta_1)*layer.dbeta\n",
        "          beta_momentums_corrected = layer.beta_momentums/(1 - self.beta_1 *(self.iterations + 1))\n",
        "\n",
        "          layer.beta_cache = self.beta_2*layer.beta_cache + (1 - self.beta_2)*layer.dbeta**2\n",
        "          beta_cache_corrected = layer.beta_cache/(1 - self.beta_2 *(self.iterations + 1))\n",
        "\n",
        "          layer.beta += -self.current_learning_rate * beta_momentums_corrected/(np.sqrt(beta_cache_corrected) + self.epsilon)\n",
        "\n",
        "\n",
        "\n",
        "    def post_update_params(self):\n",
        "        self.iterations += 1"
      ],
      "metadata": {
        "id": "MQMlO1YQHI5Z"
      },
      "execution_count": null,
      "outputs": []
    },
    {
      "cell_type": "markdown",
      "source": [
        "# SPIRAL\n",
        "difficult dataset"
      ],
      "metadata": {
        "id": "NvC_aySoOA9n"
      }
    },
    {
      "cell_type": "code",
      "source": [
        "\n",
        "def NN_3_layers(X, y, input=2, n1=64, n2=32, output=3):\n",
        "  dense1 = Layer_Dense(input, n1, weight_regularizer_l2=5e-4, bias_regularizer_l2=5e-4)\n",
        "  bn1 = Layer_BatchNormalization(n1)\n",
        "  activation1 = Activation_ReLU()\n",
        "\n",
        "  dense2 = Layer_Dense(n1, n2, weight_regularizer_l2=5e-4, bias_regularizer_l2=5e-4)\n",
        "  bn2 = Layer_BatchNormalization(n2)\n",
        "  activation2 = Activation_ReLU()\n",
        "\n",
        "  dense3 = Layer_Dense(n2, output)\n",
        "\n",
        "\n",
        "\n",
        "  loss_activation = Activation_Softmax_Loss_CategoricalCrossentropy()\n",
        "\n",
        "  optimizer = Optimizer_Adam_BN(learning_rate=0.05, decay=5e-5)\n",
        "\n",
        "\n",
        "  patience = 10\n",
        "  min_delta = 1e-3\n",
        "  accuracy_history = []\n",
        "\n",
        "  for epoch in range(10001):\n",
        "\n",
        "      dense1.forward(X)\n",
        "      bn1.forward(dense1.output)\n",
        "      activation1.forward(bn1.output)\n",
        "\n",
        "      dense2.forward(activation1.output)\n",
        "      bn2.forward(dense2.output)\n",
        "      activation2.forward(bn2.output)\n",
        "\n",
        "      dense3.forward(activation2.output)\n",
        "\n",
        "      data_loss = loss_activation.forward(dense3.output, y)\n",
        "\n",
        "      #REGULARIZATION\n",
        "      regularization_loss = (loss_activation.loss.regularization_loss(dense1) + loss_activation.loss.regularization_loss(dense2) + loss_activation.loss.regularization_loss(dense3))\n",
        "\n",
        "      loss = data_loss + regularization_loss\n",
        "\n",
        "      predictions = np.argmax(loss_activation.output, axis=1)\n",
        "      if len(y.shape) == 2:\n",
        "          y = np.argmax(y, axis=1)\n",
        "      accuracy = np.mean(predictions == y)\n",
        "\n",
        "\n",
        "      accuracy_history.append(accuracy)\n",
        "      if len(accuracy_history) > patience:\n",
        "          accuracy_history.pop(0)\n",
        "          acc_range = max(accuracy_history) - min(accuracy_history)\n",
        "          if acc_range < min_delta:\n",
        "              print(f\"Early stopping at epoch {epoch} - accuracy change {acc_range:.5f} < min_delta {min_delta}\")\n",
        "              break\n",
        "\n",
        "\n",
        "\n",
        "      if not epoch % 100:\n",
        "          print(f'epoch: {epoch}, acc: {accuracy:.3f}, loss: {loss:.3f} (data_loss: {data_loss:.3f}, reg_loss: {regularization_loss:.3f}), lr: {optimizer.current_learning_rate}')\n",
        "\n",
        "\n",
        "      loss_activation.backward(loss_activation.output, y)\n",
        "      dense3.backward(loss_activation.dinputs)\n",
        "\n",
        "      activation2.backward(dense3.dinputs)\n",
        "      bn2.backward(activation2.dinputs)\n",
        "      dense2.backward(bn2.dinputs)\n",
        "\n",
        "      activation1.backward(dense2.dinputs)\n",
        "      bn1.backward(activation1.dinputs)\n",
        "      dense1.backward(bn1.dinputs)\n",
        "\n",
        "\n",
        "\n",
        "      # optimizing\n",
        "      optimizer.pre_update_params()\n",
        "      optimizer.update_params(dense1)\n",
        "      optimizer.update_params(dense2)\n",
        "      optimizer.update_params(dense3)\n",
        "      optimizer.update_params(bn1)\n",
        "      optimizer.update_params(bn2)\n",
        "\n",
        "      optimizer.post_update_params()\n",
        "\n",
        "  return dense1, bn1, activation1, dense2, bn2, activation2, dense3, loss_activation\n",
        "\n",
        "\n",
        "X, y = spiral_data(samples=1000, classes=3)\n",
        "dense1, bn1, activation1, dense2, bn2, activation2, dense3, loss_activation = NN_3_layers(X, y)\n"
      ],
      "metadata": {
        "colab": {
          "base_uri": "https://localhost:8080/"
        },
        "id": "RbaOyAXOFp9y",
        "outputId": "6c5eb60f-c9ad-4053-8477-faba009b3cd8"
      },
      "execution_count": null,
      "outputs": [
        {
          "output_type": "stream",
          "name": "stdout",
          "text": [
            "epoch: 0, acc: 0.418, loss: 1.094 (data_loss: 1.094, reg_loss: 0.000), lr: 0.05\n",
            "epoch: 100, acc: 0.901, loss: 0.284 (data_loss: 0.248, reg_loss: 0.036), lr: 0.04975371909050202\n",
            "epoch: 200, acc: 0.900, loss: 0.275 (data_loss: 0.238, reg_loss: 0.037), lr: 0.049507401356502806\n",
            "epoch: 300, acc: 0.883, loss: 0.453 (data_loss: 0.311, reg_loss: 0.142), lr: 0.0492635105177595\n",
            "epoch: 400, acc: 0.893, loss: 0.311 (data_loss: 0.251, reg_loss: 0.061), lr: 0.04902201088288642\n",
            "epoch: 500, acc: 0.900, loss: 0.271 (data_loss: 0.232, reg_loss: 0.038), lr: 0.048782867456949125\n",
            "epoch: 600, acc: 0.908, loss: 0.273 (data_loss: 0.228, reg_loss: 0.045), lr: 0.04854604592455945\n",
            "epoch: 700, acc: 0.909, loss: 0.247 (data_loss: 0.219, reg_loss: 0.028), lr: 0.048311512633460556\n",
            "epoch: 800, acc: 0.884, loss: 0.351 (data_loss: 0.282, reg_loss: 0.069), lr: 0.04807923457858551\n",
            "epoch: 900, acc: 0.909, loss: 0.253 (data_loss: 0.217, reg_loss: 0.036), lr: 0.04784917938657352\n",
            "epoch: 1000, acc: 0.911, loss: 0.264 (data_loss: 0.223, reg_loss: 0.041), lr: 0.04762131530072861\n",
            "epoch: 1100, acc: 0.826, loss: 0.674 (data_loss: 0.474, reg_loss: 0.200), lr: 0.04739561116640599\n",
            "epoch: 1200, acc: 0.908, loss: 0.354 (data_loss: 0.235, reg_loss: 0.119), lr: 0.04717203641681212\n",
            "epoch: 1300, acc: 0.871, loss: 0.420 (data_loss: 0.317, reg_loss: 0.103), lr: 0.04695056105920466\n",
            "epoch: 1400, acc: 0.909, loss: 0.301 (data_loss: 0.230, reg_loss: 0.071), lr: 0.04673115566147951\n",
            "epoch: 1500, acc: 0.909, loss: 0.274 (data_loss: 0.220, reg_loss: 0.053), lr: 0.046513791339132055\n",
            "epoch: 1600, acc: 0.904, loss: 0.265 (data_loss: 0.225, reg_loss: 0.040), lr: 0.04629843974258068\n",
            "epoch: 1700, acc: 0.911, loss: 0.242 (data_loss: 0.209, reg_loss: 0.033), lr: 0.046085073044840774\n",
            "epoch: 1800, acc: 0.892, loss: 0.371 (data_loss: 0.283, reg_loss: 0.088), lr: 0.04587366392953806\n",
            "epoch: 1900, acc: 0.908, loss: 0.271 (data_loss: 0.222, reg_loss: 0.049), lr: 0.04566418557925019\n",
            "epoch: 2000, acc: 0.911, loss: 0.246 (data_loss: 0.213, reg_loss: 0.033), lr: 0.045456611664166556\n",
            "epoch: 2100, acc: 0.908, loss: 0.238 (data_loss: 0.213, reg_loss: 0.026), lr: 0.045250916331055706\n",
            "epoch: 2200, acc: 0.905, loss: 0.249 (data_loss: 0.228, reg_loss: 0.020), lr: 0.0450470741925312\n",
            "epoch: 2300, acc: 0.897, loss: 0.334 (data_loss: 0.249, reg_loss: 0.085), lr: 0.04484506031660612\n",
            "epoch: 2400, acc: 0.908, loss: 0.276 (data_loss: 0.223, reg_loss: 0.053), lr: 0.04464485021652753\n",
            "epoch: 2500, acc: 0.912, loss: 0.244 (data_loss: 0.209, reg_loss: 0.035), lr: 0.044446419840881816\n",
            "epoch: 2600, acc: 0.913, loss: 0.230 (data_loss: 0.203, reg_loss: 0.026), lr: 0.04424974556396301\n",
            "epoch: 2700, acc: 0.915, loss: 0.220 (data_loss: 0.199, reg_loss: 0.021), lr: 0.04405480417639544\n",
            "epoch: 2800, acc: 0.903, loss: 0.308 (data_loss: 0.245, reg_loss: 0.063), lr: 0.04386157287600334\n",
            "Early stopping at epoch 2832 - accuracy change 0.00067 < min_delta 0.001\n"
          ]
        }
      ]
    },
    {
      "cell_type": "code",
      "source": [
        "X_val, y_val = spiral_data(samples=100, classes=3)\n",
        "\n",
        "dense1.forward(X_val)\n",
        "bn1.forward(dense1.output, training=False)\n",
        "activation1.forward(bn1.output)\n",
        "\n",
        "dense2.forward(activation1.output)\n",
        "bn2.forward(dense2.output, training=False)\n",
        "activation2.forward(bn2.output)\n",
        "\n",
        "dense3.forward(activation2.output)\n",
        "\n",
        "# Calculate loss and accuracy\n",
        "loss = loss_activation.forward(dense3.output, y_val)\n",
        "\n",
        "predictions = np.argmax(loss_activation.output, axis=1)\n",
        "if len(y_val.shape) == 2:\n",
        "    y_val = np.argmax(y_val, axis=1)\n",
        "accuracy = np.mean(predictions == y_val)\n",
        "\n",
        "print(f'Validation, acc: {accuracy:.3f}, loss: {loss:.3f}')\n"
      ],
      "metadata": {
        "colab": {
          "base_uri": "https://localhost:8080/"
        },
        "id": "Y_4ynQ_JGraH",
        "outputId": "7a653b21-bb65-45b1-e5b9-1d78ffaf93db"
      },
      "execution_count": null,
      "outputs": [
        {
          "output_type": "stream",
          "name": "stdout",
          "text": [
            "Validation, acc: 0.873, loss: 0.301\n"
          ]
        }
      ]
    },
    {
      "cell_type": "markdown",
      "source": [
        "# MOON DATA\n",
        "easy data"
      ],
      "metadata": {
        "id": "aRJ6kUZlOEhy"
      }
    },
    {
      "cell_type": "code",
      "source": [
        "import matplotlib.pyplot as plt\n",
        "from sklearn.datasets import make_moons\n",
        "\n",
        "X, y = make_moons(n_samples=300, noise=0.28)\n",
        "\n",
        "plt.scatter(X[:, 0], X[:, 1], c=y, cmap='bwr')\n",
        "plt.title(\"Moons Data\")\n",
        "plt.show()\n"
      ],
      "metadata": {
        "colab": {
          "base_uri": "https://localhost:8080/",
          "height": 452
        },
        "id": "_JLZ1591Ingu",
        "outputId": "15291acd-63cd-48c6-b628-266046820517"
      },
      "execution_count": null,
      "outputs": [
        {
          "output_type": "display_data",
          "data": {
            "text/plain": [
              "<Figure size 640x480 with 1 Axes>"
            ],
            "image/png": "[encoded data removed]"
          },
          "metadata": {}
        }
      ]
    },
    {
      "cell_type": "code",
      "source": [
        "\n",
        "def NN_3_layers(X, y, input=2, n1=64, n2=32, output=3):\n",
        "  dense1 = Layer_Dense(input, n1, weight_regularizer_l2=5e-4, bias_regularizer_l2=5e-4)\n",
        "  bn1 = Layer_BatchNormalization(n1)\n",
        "  activation1 = Activation_ReLU()\n",
        "\n",
        "  dense2 = Layer_Dense(n1, n2, weight_regularizer_l2=5e-4, bias_regularizer_l2=5e-4)\n",
        "  bn2 = Layer_BatchNormalization(n2)\n",
        "  activation2 = Activation_ReLU()\n",
        "\n",
        "  dense3 = Layer_Dense(n2, output)\n",
        "\n",
        "\n",
        "\n",
        "  loss_activation = Activation_Softmax_Loss_CategoricalCrossentropy()\n",
        "\n",
        "  optimizer = Optimizer_Adam_BN(learning_rate=0.05, decay=5e-5)\n",
        "\n",
        "\n",
        "  patience = 10\n",
        "  min_delta = 1e-3\n",
        "  accuracy_history = []\n",
        "\n",
        "  for epoch in range(10001):\n",
        "\n",
        "      dense1.forward(X)\n",
        "      bn1.forward(dense1.output)\n",
        "      activation1.forward(bn1.output)\n",
        "\n",
        "      dense2.forward(activation1.output)\n",
        "      bn2.forward(dense2.output)\n",
        "      activation2.forward(bn2.output)\n",
        "\n",
        "      dense3.forward(activation2.output)\n",
        "\n",
        "      data_loss = loss_activation.forward(dense3.output, y)\n",
        "\n",
        "      #REGULARIZATION\n",
        "      regularization_loss = (loss_activation.loss.regularization_loss(dense1) + loss_activation.loss.regularization_loss(dense2) + loss_activation.loss.regularization_loss(dense3))\n",
        "\n",
        "      loss = data_loss + regularization_loss\n",
        "\n",
        "      predictions = np.argmax(loss_activation.output, axis=1)\n",
        "      if len(y.shape) == 2:\n",
        "          y = np.argmax(y, axis=1)\n",
        "      accuracy = np.mean(predictions == y)\n",
        "\n",
        "\n",
        "      accuracy_history.append(accuracy)\n",
        "      if len(accuracy_history) > patience:\n",
        "          accuracy_history.pop(0)\n",
        "          acc_range = max(accuracy_history) - min(accuracy_history)\n",
        "          if acc_range < min_delta:\n",
        "              print(f\"Early stopping at epoch {epoch} - accuracy change {acc_range:.5f} < min_delta {min_delta}\")\n",
        "              break\n",
        "\n",
        "\n",
        "\n",
        "      if not epoch % 100:\n",
        "          print(f'epoch: {epoch}, acc: {accuracy:.3f}, loss: {loss:.3f} (data_loss: {data_loss:.3f}, reg_loss: {regularization_loss:.3f}), lr: {optimizer.current_learning_rate}')\n",
        "\n",
        "\n",
        "      loss_activation.backward(loss_activation.output, y)\n",
        "      dense3.backward(loss_activation.dinputs)\n",
        "\n",
        "      activation2.backward(dense3.dinputs)\n",
        "      bn2.backward(activation2.dinputs)\n",
        "      dense2.backward(bn2.dinputs)\n",
        "\n",
        "      activation1.backward(dense2.dinputs)\n",
        "      bn1.backward(activation1.dinputs)\n",
        "      dense1.backward(bn1.dinputs)\n",
        "\n",
        "\n",
        "\n",
        "      # optimizing\n",
        "      optimizer.pre_update_params()\n",
        "      optimizer.update_params(dense1)\n",
        "      optimizer.update_params(dense2)\n",
        "      optimizer.update_params(dense3)\n",
        "      optimizer.update_params(bn1)\n",
        "      optimizer.update_params(bn2)\n",
        "\n",
        "      optimizer.post_update_params()\n",
        "\n",
        "  return dense1, bn1, activation1, dense2, bn2, activation2, dense3, loss_activation\n",
        "\n",
        "\n",
        "X, y = make_moons(n_samples=300, noise=0.28)\n",
        "dense1, bn1, activation1, dense2, bn2, activation2, dense3, loss_activation = NN_3_layers(X, y, output=2)\n"
      ],
      "metadata": {
        "colab": {
          "base_uri": "https://localhost:8080/"
        },
        "id": "bJ0q1XdkOU9z",
        "outputId": "41975207-b41d-42a6-f6d5-362da476bc88"
      },
      "execution_count": null,
      "outputs": [
        {
          "output_type": "stream",
          "name": "stdout",
          "text": [
            "epoch: 0, acc: 0.303, loss: 0.705 (data_loss: 0.705, reg_loss: 0.000), lr: 0.05\n",
            "epoch: 100, acc: 0.947, loss: 0.166 (data_loss: 0.144, reg_loss: 0.022), lr: 0.04975371909050202\n",
            "epoch: 200, acc: 0.940, loss: 0.167 (data_loss: 0.143, reg_loss: 0.023), lr: 0.049507401356502806\n",
            "epoch: 300, acc: 0.943, loss: 0.165 (data_loss: 0.145, reg_loss: 0.020), lr: 0.0492635105177595\n",
            "epoch: 400, acc: 0.947, loss: 0.173 (data_loss: 0.141, reg_loss: 0.032), lr: 0.04902201088288642\n",
            "epoch: 500, acc: 0.937, loss: 0.160 (data_loss: 0.138, reg_loss: 0.022), lr: 0.048782867456949125\n",
            "epoch: 600, acc: 0.943, loss: 0.182 (data_loss: 0.142, reg_loss: 0.039), lr: 0.04854604592455945\n",
            "epoch: 700, acc: 0.943, loss: 0.161 (data_loss: 0.133, reg_loss: 0.028), lr: 0.048311512633460556\n",
            "epoch: 800, acc: 0.950, loss: 0.176 (data_loss: 0.159, reg_loss: 0.017), lr: 0.04807923457858551\n",
            "epoch: 900, acc: 0.950, loss: 0.122 (data_loss: 0.100, reg_loss: 0.022), lr: 0.04784917938657352\n",
            "Early stopping at epoch 981 - accuracy change 0.00000 < min_delta 0.001\n"
          ]
        }
      ]
    },
    {
      "cell_type": "code",
      "source": [
        "X_val, y_val = make_moons(n_samples=1000, noise=0.28)\n",
        "\n",
        "dense1.forward(X_val)\n",
        "bn1.forward(dense1.output, training=False)\n",
        "activation1.forward(bn1.output)\n",
        "\n",
        "dense2.forward(activation1.output)\n",
        "bn2.forward(dense2.output, training=False)\n",
        "activation2.forward(bn2.output)\n",
        "\n",
        "dense3.forward(activation2.output)\n",
        "\n",
        "# Calculate loss and accuracy\n",
        "loss = loss_activation.forward(dense3.output, y_val)\n",
        "\n",
        "predictions = np.argmax(loss_activation.output, axis=1)\n",
        "if len(y_val.shape) == 2:\n",
        "    y_val = np.argmax(y_val, axis=1)\n",
        "accuracy = np.mean(predictions == y_val)\n",
        "\n",
        "print(f'Validation, acc: {accuracy:.3f}, loss: {loss:.3f}')\n"
      ],
      "metadata": {
        "colab": {
          "base_uri": "https://localhost:8080/"
        },
        "id": "NgMh3yfkO1DW",
        "outputId": "8893aec5-a2c3-495b-d32d-dc189c5bd031"
      },
      "execution_count": null,
      "outputs": [
        {
          "output_type": "stream",
          "name": "stdout",
          "text": [
            "Validation, acc: 0.898, loss: 0.247\n"
          ]
        }
      ]
    }
  ]
}